{
 "cells": [
  {
   "cell_type": "code",
   "execution_count": 27,
   "id": "e961ef0d",
   "metadata": {},
   "outputs": [],
   "source": [
    "import numpy as np\n",
    "import math\n",
    "import cv2\n",
    "from matplotlib import pyplot as plt\n",
    "img1 = np.reshape(cv2.imread('jpg/1.jpg', cv2.IMREAD_GRAYSCALE),(1,10201))#HAPPY\n",
    "img2 = np.reshape(cv2.imread('jpg/5.jpg', cv2.IMREAD_GRAYSCALE),(1,10201))#HAPPY  #5\n",
    "img3 = np.reshape(cv2.imread('jpg/6.jpg', cv2.IMREAD_GRAYSCALE),(1,10201))#HAPPY6\n",
    "img4 = np.reshape(cv2.imread('jpg/7.jpg', cv2.IMREAD_GRAYSCALE),(1,10201))#HAPPY7\n",
    "img5 = np.reshape(cv2.imread('jpg/8.jpg', cv2.IMREAD_GRAYSCALE),(1,10201))#HAPPY\n",
    "img6 = np.reshape(cv2.imread('jpg/17.jpg', cv2.IMREAD_GRAYSCALE),(1,10201))#HAPPY\n",
    "img7 = np.reshape(cv2.imread('jpg/18.jpg', cv2.IMREAD_GRAYSCALE),(1,10201))#HAPPY\n",
    "img8 = np.reshape(cv2.imread('jpg/19.jpg', cv2.IMREAD_GRAYSCALE),(1,10201)) #HAPPY\n",
    "img9 = np.reshape(cv2.imread('jpg/20.jpg', cv2.IMREAD_GRAYSCALE),(1,10201)) #HAPPY\n",
    "img10 = np.reshape(cv2.imread('jpg/2.jpg', cv2.IMREAD_GRAYSCALE),(1,10201)) #SAD\n",
    "img11 = np.reshape(cv2.imread('jpg/3.jpg', cv2.IMREAD_GRAYSCALE),(1,10201)) #SAD\n",
    "img12 = np.reshape(cv2.imread('jpg/4.jpg', cv2.IMREAD_GRAYSCALE),(1,10201)) #SAD\n",
    "img13 = np.reshape(cv2.imread('jpg/9.jpg', cv2.IMREAD_GRAYSCALE),(1,10201)) #SAD\n",
    "img14 = np.reshape(cv2.imread('jpg/10.jpg', cv2.IMREAD_GRAYSCALE),(1,10201)) #SAD\n",
    "img15 = np.reshape(cv2.imread('jpg/11.jpg', cv2.IMREAD_GRAYSCALE),(1,10201)) #SAD\n",
    "img16 = np.reshape(cv2.imread('jpg/12.jpg', cv2.IMREAD_GRAYSCALE),(1,10201)) #SAD\n",
    "img17 = np.reshape(cv2.imread('jpg/13.jpg', cv2.IMREAD_GRAYSCALE),(1,10201)) #SAD\n",
    "img18 = np.reshape(cv2.imread('jpg/14.jpg', cv2.IMREAD_GRAYSCALE),(1,10201)) #SAD\n",
    "img19 = np.reshape(cv2.imread('jpg/15.jpg', cv2.IMREAD_GRAYSCALE),(1,10201)) #SAD\n",
    "img20 = np.reshape(cv2.imread('jpg/16.jpg', cv2.IMREAD_GRAYSCALE),(1,10201)) #SAD"
   ]
  },
  {
   "cell_type": "code",
   "execution_count": 28,
   "id": "5b5f3979",
   "metadata": {},
   "outputs": [
    {
     "data": {
      "text/plain": [
       "array([[134, 140, 146, ...,  95,  95,  95]], dtype=uint8)"
      ]
     },
     "execution_count": 28,
     "metadata": {},
     "output_type": "execute_result"
    }
   ],
   "source": [
    "img1\n",
    "\n"
   ]
  },
  {
   "cell_type": "code",
   "execution_count": 29,
   "id": "1b9fa6da",
   "metadata": {},
   "outputs": [
    {
     "data": {
      "text/plain": [
       "array([108, 110, 108, ..., 255, 254, 255], dtype=uint8)"
      ]
     },
     "execution_count": 29,
     "metadata": {},
     "output_type": "execute_result"
    }
   ],
   "source": [
    "data = np.array([img1,img2,img3,img4,img5,img6,img7,img8,img9,img10,img11,img12,img13,img14,img15,img16,img17,img18,img19,img20])\n",
    "data = np.reshape(data,(20,10201))\n",
    "data[1]"
   ]
  },
  {
   "cell_type": "code",
   "execution_count": 30,
   "id": "b1fd65d4",
   "metadata": {},
   "outputs": [
    {
     "name": "stdout",
     "output_type": "stream",
     "text": [
      "[ 59.9   65.1   70.95 ... 101.25 110.35 118.45]\n"
     ]
    }
   ],
   "source": [
    "data=data.astype(float)\n",
    "OriginalData = data # (20,10201)\n",
    "#############################################\n",
    "meanArray = np.mean(data,axis=0)\n",
    "print(meanArray)"
   ]
  },
  {
   "cell_type": "code",
   "execution_count": 31,
   "id": "e1eeb796",
   "metadata": {},
   "outputs": [
    {
     "data": {
      "text/plain": [
       "array([[ 74.1 ,  74.9 ,  75.05, ...,  -6.25, -15.35, -23.45],\n",
       "       [ 48.1 ,  44.9 ,  37.05, ..., 153.75, 143.65, 136.55],\n",
       "       [ 57.1 ,  46.9 ,  45.05, ..., 121.75, 115.65,  96.55],\n",
       "       ...,\n",
       "       [ 11.1 ,  21.9 ,  36.05, ..., -36.25, -43.35, -47.45],\n",
       "       [-34.9 , -31.1 , -23.95, ...,  60.75, 115.65, 136.55],\n",
       "       [-52.9 , -58.1 , -63.95, ..., -36.25, -42.35, -44.45]])"
      ]
     },
     "execution_count": 31,
     "metadata": {},
     "output_type": "execute_result"
    }
   ],
   "source": [
    "data = data-meanArray\n",
    "data"
   ]
  },
  {
   "cell_type": "code",
   "execution_count": 32,
   "id": "e6d3f9e4",
   "metadata": {},
   "outputs": [
    {
     "name": "stdout",
     "output_type": "stream",
     "text": [
      "(10201, 20)\n"
     ]
    }
   ],
   "source": [
    "DM = np.matrix(data)\n",
    "EAM = np.matmul(DM,DM.T)*(1.0/data.shape[0])\n",
    "print(DM.T.shape)"
   ]
  },
  {
   "cell_type": "code",
   "execution_count": 33,
   "id": "798e9d00",
   "metadata": {},
   "outputs": [
    {
     "name": "stdout",
     "output_type": "stream",
     "text": [
      "\n",
      "Largest Eigen Value = 4065127.9930006466\n",
      "\n",
      "Eigen Vector corresponding to the largest eigen value\n",
      "\n",
      "[[ 0.24176061]\n",
      " [ 0.49857547]\n",
      " [ 0.27230544]\n",
      " [-0.05072029]\n",
      " [ 0.04199389]\n",
      " [ 0.30365664]\n",
      " [-0.16154315]\n",
      " [-0.15320878]\n",
      " [-0.07489207]\n",
      " [-0.13451224]\n",
      " [-0.37887708]\n",
      " [-0.18723778]\n",
      " [-0.09670478]\n",
      " [-0.14755586]\n",
      " [ 0.27815082]\n",
      " [-0.1982916 ]\n",
      " [-0.16192868]\n",
      " [ 0.16138722]\n",
      " [ 0.1595009 ]\n",
      " [-0.21185868]]\n",
      "\n",
      "Eigen Values in Descending Order\n",
      "\n",
      "4065127.9930006466\n",
      "1964811.429713731\n",
      "1620784.6554247853\n",
      "967256.7557598497\n",
      "767058.0744666823\n",
      "742515.9085663749\n",
      "627773.0126791539\n",
      "503772.1065140346\n",
      "393034.81655162206\n",
      "377322.42930973205\n",
      "322816.231982228\n",
      "313328.93651861657\n",
      "237565.0504813685\n",
      "212013.98191611073\n",
      "180636.0581358347\n",
      "169995.4567118196\n",
      "144709.10450060276\n",
      "123189.47252249453\n",
      "87044.85774431445\n",
      "7.275888599815834e-11\n",
      "\n",
      "\n",
      "(20, 20)\n"
     ]
    }
   ],
   "source": [
    "eigen_values, eigen_vectors = np.linalg.eigh(EAM)\n",
    "\n",
    "\n",
    "# Sort the eigen values and vectors by decreasing eigen values\n",
    "indices = np.argsort(eigen_values)[::-1]\n",
    "eigen_values = eigen_values[indices]\n",
    "eigen_vectors = eigen_vectors[:,indices]\n",
    "\n",
    "\n",
    "print(\"\\nLargest Eigen Value = \" + str(eigen_values[0])) # Print the largest eigen value \n",
    "print(\"\\nEigen Vector corresponding to the largest eigen value\\n\\n\" + str(eigen_vectors[:,1])) # The eigen vector corresponding to eigen value eigen_values[0]\n",
    "\n",
    "print(\"\\nEigen Values in Descending Order\\n\")\n",
    "for i in range(len(eigen_values)):\n",
    "    print(eigen_values[i])\n",
    "print(\"\\n\")\n",
    "print(eigen_vectors.shape)\n",
    "\n",
    "\n",
    "Evector = eigen_vectors\n",
    "wrev = eigen_values"
   ]
  },
  {
   "cell_type": "code",
   "execution_count": 34,
   "id": "7f383b55",
   "metadata": {},
   "outputs": [
    {
     "data": {
      "text/plain": [
       "(10201, 17)"
      ]
     },
     "execution_count": 34,
     "metadata": {},
     "output_type": "execute_result"
    }
   ],
   "source": [
    "K = 17\n",
    "OriginalEV = None\n",
    "for i in range(K):\n",
    " \n",
    "        #u = (DM.T * np.matrix(np.reshape(Evector[i,:], (20, 1))))\n",
    "    u = np.matmul(DM.T,(np.reshape(Evector[i,:], (20, 1))))\n",
    "    const = math.sqrt(wrev[i] * data.shape[0])\n",
    "    vector = u/const\n",
    "    if OriginalEV is None:\n",
    "        OriginalEV = vector\n",
    "    else:\n",
    "        OriginalEV = np.append(OriginalEV,vector,axis=1)\n",
    "        #OriginalEV.append(u / const)\n",
    "#print(np.asarray(OriginalEV))\n",
    "#OriginalEV=np.reshape(np.asarray(OriginalEV).squeeze(),(K,10201))\n",
    "OriginalEV.shape"
   ]
  },
  {
   "cell_type": "code",
   "execution_count": 35,
   "id": "0f43c71f",
   "metadata": {},
   "outputs": [],
   "source": [
    "ReducedImg = None\n",
    "for i in range(data.shape[0]):\n",
    "    y = np.matmul(OriginalEV.T,data[i,:].reshape((10201,1))) #WE ARE REDUCING THE DIM OF CENTERED DATA************************************************************************************\n",
    "    if ReducedImg is None:\n",
    "        ReducedImg = y\n",
    "    else:\n",
    "        ReducedImg = np.append(ReducedImg,y,axis=1)\n",
    "    #ReducedImg.append(y.squeeze())\n",
    "#ReducedImg = np.asarray(ReducedImg) #EACH ROW IS A REDUCED IMG VECTOR (20,19)"
   ]
  },
  {
   "cell_type": "code",
   "execution_count": 36,
   "id": "b018b5f7",
   "metadata": {},
   "outputs": [
    {
     "data": {
      "text/plain": [
       "(20, 17)"
      ]
     },
     "execution_count": 36,
     "metadata": {},
     "output_type": "execute_result"
    }
   ],
   "source": [
    "ReducedImg.shape\n",
    "ReducedImg = ReducedImg.T\n",
    "ReducedImg.shape"
   ]
  },
  {
   "cell_type": "code",
   "execution_count": 37,
   "id": "8287a5cc",
   "metadata": {},
   "outputs": [],
   "source": [
    "Happy = None\n",
    "Sad = None\n",
    "for i in range(9):\n",
    "    #Happy.append(ReducedImg[i,:])\n",
    "    if Happy is None:\n",
    "        Happy = ReducedImg[i].reshape((K,1))\n",
    "    else:\n",
    "        Happy = np.append(Happy,ReducedImg[i].reshape((K,1)),axis = 1)\n",
    "    \n",
    "for i in range(9,20):\n",
    "    if Sad is None:\n",
    "        Sad = ReducedImg[i].reshape((K,1))\n",
    "    else:\n",
    "        Sad = np.append(Sad,ReducedImg[i].reshape((K,1)),axis=1)\n",
    "    \n",
    "    #Sad.append(ReducedImg[i,:])\n",
    "#Happy = np.asarray(Happy)\n",
    "#Sad = np.asarray(Sad)\n",
    "Happy = Happy.transpose()\n",
    "Sad = Sad.transpose()"
   ]
  },
  {
   "cell_type": "code",
   "execution_count": 39,
   "id": "9ab10f9e",
   "metadata": {},
   "outputs": [
    {
     "data": {
      "text/plain": [
       "(17, 1)"
      ]
     },
     "execution_count": 39,
     "metadata": {},
     "output_type": "execute_result"
    }
   ],
   "source": [
    "m1 = np.mean(Happy,axis=0).reshape((K,1))\n",
    "m2 = np.mean(Sad,axis=0).reshape((K,1))\n",
    "m1.shape"
   ]
  },
  {
   "cell_type": "code",
   "execution_count": 40,
   "id": "9a4e7431",
   "metadata": {},
   "outputs": [
    {
     "data": {
      "text/plain": [
       "matrix([[ 120.76970293],\n",
       "        [ 425.7940616 ],\n",
       "        [ 169.91033604],\n",
       "        [ 207.1320569 ],\n",
       "        [ 250.53867027],\n",
       "        [ -90.61266143],\n",
       "        [-441.21205256],\n",
       "        [-118.58272997],\n",
       "        [-246.01720369],\n",
       "        [ 645.00233015],\n",
       "        [-628.78498462],\n",
       "        [ 263.73369272],\n",
       "        [-622.97033275],\n",
       "        [ 339.35865586],\n",
       "        [ 273.16521469],\n",
       "        [ 226.60778952],\n",
       "        [ 186.18676669]])"
      ]
     },
     "execution_count": 40,
     "metadata": {},
     "output_type": "execute_result"
    }
   ],
   "source": [
    "m1"
   ]
  },
  {
   "cell_type": "code",
   "execution_count": 41,
   "id": "078c97f3",
   "metadata": {},
   "outputs": [
    {
     "data": {
      "text/plain": [
       "(1, 17)"
      ]
     },
     "execution_count": 41,
     "metadata": {},
     "output_type": "execute_result"
    }
   ],
   "source": [
    "ReducedImg[0,:].shape"
   ]
  },
  {
   "cell_type": "code",
   "execution_count": 42,
   "id": "9d5353ce",
   "metadata": {},
   "outputs": [
    {
     "data": {
      "text/plain": [
       "(9, 17)"
      ]
     },
     "execution_count": 42,
     "metadata": {},
     "output_type": "execute_result"
    }
   ],
   "source": [
    "\n",
    "\n",
    "V1 = None\n",
    "V2 =None\n",
    "for i in range(9):\n",
    "    img = ReducedImg[i,:]\n",
    "    img = img - m1.T\n",
    "    if V1 is None:\n",
    "        V1 = img\n",
    "    else:\n",
    "        V1 = np.append(V1,img,axis = 0)\n",
    "\n",
    "        \n",
    "#V1.append(ReducedImg[i,:]-np.reshape(m1,(1,K)))\n",
    "\n",
    "for i in range(9,20):\n",
    "    img = ReducedImg[i,:]\n",
    "    img = img - m1.T\n",
    "    if V2 is None:\n",
    "        V2 = img\n",
    "    else:\n",
    "        V2 = np.append(V2,img,axis=0)\n",
    "#V2.append(ReducedImg[i,:]-np.reshape(m2,(1,K)))\n",
    "#V1 = np.asarray(V1).squeeze() # EACH COLUMN IS AN REDUCED IMAGE VECTOR\n",
    "#V2 = np.asarray(V2).squeeze()  # EACH COLUMN IS AN REDUCED IMAGE VECTOR\n",
    "V1.shape"
   ]
  },
  {
   "cell_type": "code",
   "execution_count": 43,
   "id": "fecf9347",
   "metadata": {},
   "outputs": [],
   "source": [
    "V1 = V1.transpose()"
   ]
  },
  {
   "cell_type": "code",
   "execution_count": 44,
   "id": "970d0cc5",
   "metadata": {},
   "outputs": [],
   "source": [
    "V2 = V2.transpose()"
   ]
  },
  {
   "cell_type": "code",
   "execution_count": 45,
   "id": "f85e86b3",
   "metadata": {},
   "outputs": [],
   "source": [
    "Sw = np.cov(V1)+np.cov(V2)\n",
    "Sw_inv = np.linalg.inv(Sw)\n"
   ]
  },
  {
   "cell_type": "code",
   "execution_count": 46,
   "id": "df66365b",
   "metadata": {},
   "outputs": [],
   "source": [
    "w = np.matmul(Sw_inv,np.reshape((m2-m1),(K,1)))"
   ]
  },
  {
   "cell_type": "code",
   "execution_count": null,
   "id": "5d6ab474",
   "metadata": {},
   "outputs": [],
   "source": []
  },
  {
   "cell_type": "code",
   "execution_count": 56,
   "id": "7a051adc",
   "metadata": {},
   "outputs": [
    {
     "name": "stdout",
     "output_type": "stream",
     "text": [
      "[[-16.08968198 -20.25443323 -17.11791547 -16.48926402 -24.15629399\n",
      "  -18.04566541 -18.64642419 -20.15374693 -16.14017401  14.62515528\n",
      "    8.39959721  18.53419745  18.43285117  23.62213719  15.28770574\n",
      "   15.5214603   17.56651134  14.30038324   4.20653842  16.5970619 ]]\n"
     ]
    }
   ],
   "source": [
    "LDA_Trans_array = np.reshape(np.matmul(Sw_inv,np.reshape((m2-m1),(K,1))),(1,K))  #(d,K)\n",
    "LDAReducedData = []\n",
    "for i in range(ReducedImg.shape[0]):\n",
    "    y = LDA_Trans_array@(ReducedImg[i,:].T)\n",
    "    LDAReducedData.append(y)\n",
    "LDAReducedData=np.asarray(LDAReducedData)\n",
    "LDAReducedData= np.reshape(LDAReducedData,(1,20))\n",
    "print(LDAReducedData)"
   ]
  },
  {
   "cell_type": "code",
   "execution_count": 58,
   "id": "a941369d",
   "metadata": {},
   "outputs": [
    {
     "ename": "ValueError",
     "evalue": "matmul: Input operand 1 has a mismatch in its core dimension 0, with gufunc signature (n?,k),(k,m?)->(n?,m?) (size 10201 is different from 17)",
     "output_type": "error",
     "traceback": [
      "\u001b[0;31m---------------------------------------------------------------------------\u001b[0m",
      "\u001b[0;31mValueError\u001b[0m                                Traceback (most recent call last)",
      "Input \u001b[0;32mIn [58]\u001b[0m, in \u001b[0;36m<module>\u001b[0;34m\u001b[0m\n\u001b[1;32m     26\u001b[0m meanArray \u001b[38;5;241m=\u001b[39m np\u001b[38;5;241m.\u001b[39mreshape(meanArray, (\u001b[38;5;241m10201\u001b[39m, \u001b[38;5;241m1\u001b[39m))\n\u001b[1;32m     27\u001b[0m test \u001b[38;5;241m=\u001b[39m test\u001b[38;5;241m-\u001b[39mmeanArray\n\u001b[0;32m---> 28\u001b[0m test \u001b[38;5;241m=\u001b[39m \u001b[43mOriginalEV\u001b[49m\u001b[38;5;129;43m@test\u001b[39;49m\n\u001b[1;32m     29\u001b[0m test \u001b[38;5;241m=\u001b[39m LDA_Trans_array\u001b[38;5;129m@test\u001b[39m\n\u001b[1;32m     30\u001b[0m \u001b[38;5;28;01mif\u001b[39;00m test\u001b[38;5;241m>\u001b[39mTh:\n",
      "\u001b[0;31mValueError\u001b[0m: matmul: Input operand 1 has a mismatch in its core dimension 0, with gufunc signature (n?,k),(k,m?)->(n?,m?) (size 10201 is different from 17)"
     ]
    }
   ],
   "source": [
    "sum=0\n",
    "for i in range(9):\n",
    "    sum=sum+abs(LDAReducedData[0,i])\n",
    "meanHappy = sum/9\n",
    "sum=0\n",
    "for i in range(9,20):\n",
    "    sum=sum+abs(LDAReducedData[0,i])\n",
    "meanSad=sum/11\n",
    "#######################################\n",
    "#Th = (meanSad+meanHappy)/2\n",
    "sum=0\n",
    "for i in range(LDAReducedData.shape[1]):\n",
    "    sum = sum+abs(LDAReducedData[0,i])\n",
    "Th = sum/20\n",
    "#print(Th)\n",
    "#print(meanHappy)\n",
    "#print(meanSad)\n",
    "p='testjpg/'\n",
    "s='sad'\n",
    "h='Happy'\n",
    "l=[s,h,s,h,s,h,s,h,h,h]\n",
    "a=[]\n",
    "for i in range(1,11):\n",
    "    test = np.reshape(cv2.imread(p+str(i)+'.jpg', cv2.IMREAD_GRAYSCALE),(10201,1))\n",
    "    test = test.astype(float)\n",
    "    meanArray = np.reshape(meanArray, (10201, 1))\n",
    "    test = test-meanArray\n",
    "    test = OriginalEV@test\n",
    "    test = LDA_Trans_array@test\n",
    "    if test>Th:\n",
    "        a.append(\"sad\")\n",
    "    else:\n",
    "        a.append(\"Happy\")\n",
    "n=0\n",
    "print('result=',a)\n",
    "print('origin=',l)\n",
    "for i in range(10):\n",
    "    if(a[i]==l[i]):\n",
    "        n+=1\n",
    "print('accuracy=',n/10)\n",
    "labels = np.zeros((20,)).astype('uint8')\n",
    "labels[:9]=1\n",
    "colormap = np.array(['red','green'])\n",
    "plt.title(f\"The sepation graph with K={K}!!\")\n",
    "#print(np.abs(LDAReducedData))\n",
    "plt.scatter(np.abs(LDAReducedData.reshape(20,)),np.zeros((20,)), c = colormap[labels])\n",
    "plt.show()\n",
    "\n"
   ]
  },
  {
   "cell_type": "code",
   "execution_count": null,
   "id": "19f5b597",
   "metadata": {},
   "outputs": [],
   "source": []
  }
 ],
 "metadata": {
  "kernelspec": {
   "display_name": "Python 3 (ipykernel)",
   "language": "python",
   "name": "python3"
  },
  "language_info": {
   "codemirror_mode": {
    "name": "ipython",
    "version": 3
   },
   "file_extension": ".py",
   "mimetype": "text/x-python",
   "name": "python",
   "nbconvert_exporter": "python",
   "pygments_lexer": "ipython3",
   "version": "3.9.7"
  }
 },
 "nbformat": 4,
 "nbformat_minor": 5
}
