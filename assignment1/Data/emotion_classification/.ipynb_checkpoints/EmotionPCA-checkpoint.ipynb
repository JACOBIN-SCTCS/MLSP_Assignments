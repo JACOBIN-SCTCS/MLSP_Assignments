{
 "cells": [
  {
   "cell_type": "markdown",
   "id": "852f6935",
   "metadata": {},
   "source": [
    "### Summary of Results\n",
    "\n",
    "* On performing LDA, the classes became seperable on the training data after taking the value of K to be greater than\n",
    "12 but limited to 20 since the number of data points were less than the dimension of a data point (eigen values become zero)\n",
    "\n",
    "\n",
    "* The classification accuracy on the test dataset was found to be 90% when K was chosen to be from 13-16 and 100% on choosing K value of 16 and 17 (Considerable gap in the extreme points of the projection ). The beahviour worsened later on which might be because of overfitting."
   ]
  },
  {
   "cell_type": "markdown",
   "id": "4b13b08c",
   "metadata": {},
   "source": [
    ". | . | . | . \n",
    "--- | --- | --- | ---\n",
    "![](images/K13.png)  | ![](images/K14.png) | ![](images/K15.png) | ![](images/K16.png) \\\\\n",
    "![](images/K17.png)  | ![](images/K18.png) | ![](images/K19.png) |"
   ]
  },
  {
   "cell_type": "markdown",
   "id": "5717eb8e",
   "metadata": {},
   "source": [
    "Libraries used\n",
    "\n",
    "* **matplotlib** for plotting graphs\n",
    "* **numpy** for numerical computations\n",
    "* **Pillow** for loading images"
   ]
  },
  {
   "cell_type": "code",
   "execution_count": 1,
   "id": "7f4096be",
   "metadata": {},
   "outputs": [],
   "source": [
    "# Importing the required libraries\n",
    "import os\n",
    "import matplotlib.pyplot as plt\n",
    "import PIL\n",
    "import numpy as np\n",
    "import math"
   ]
  },
  {
   "cell_type": "markdown",
   "id": "a034112f",
   "metadata": {},
   "source": [
    "## Dataset\n",
    "\n",
    "The Dataset consisted of 20 images of which 9 images represent the \"happy\" class and the remaining belonged to the \"sad\" class. Each image is of dimension 101 x 101 . Therefore flattening it out into a single dimensional vector we get a vector having a dimension size of 10201"
   ]
  },
  {
   "cell_type": "code",
   "execution_count": 2,
   "id": "f36cb64e",
   "metadata": {},
   "outputs": [],
   "source": [
    "'''\n",
    "Helper class for holding dataset\n",
    "    *Attributes\n",
    "        * data_type : holds the type of the dataset (train/test)\n",
    "        * N : number of image files in the dataset\n",
    "        * max_pixel_value : holds the maximum value pixel in the dataset\n",
    "        * n_features : Dimension of the image vector (10201)\n",
    "        * happy_indices: stores i such that files[i] is a happy images\n",
    "        * sad_indices : similar to happy_indices for sad images    \n",
    "        * dataset : a numpy matrix of dimensions = (Number of images) x (Dimensionality of each image) \n",
    "'''\n",
    "\n",
    "class Dataset:\n",
    "    \n",
    "    def __init__(self,dataset_type=\"train/\"):\n",
    "        \n",
    "        self.data_type = dataset_type\n",
    "        self.files = os.listdir(dataset_type)\n",
    "        self.N = len(self.files)\n",
    "        self.max_pixel_value = []\n",
    "        self.n_features = []\n",
    "        self.happy_indices = []\n",
    "        self.sad_indices = []\n",
    "        self.dataset = None\n",
    "    \n",
    "    # Constructs the data matrix X of dimensions (Number of images x Dimension of 1 image vector)\n",
    "    \n",
    "    def getDataset(self):\n",
    "        index = 0\n",
    "        for file in self.files:\n",
    "            pilimage = PIL.Image.open(self.data_type + file)\n",
    "            img_class = file.split(\".\")[1]\n",
    "            if(img_class=='sad'):\n",
    "                self.sad_indices.append(index)\n",
    "            else:\n",
    "                self.happy_indices.append(index)\n",
    "    \n",
    "            pilimage.seek(0)\n",
    "            tmp = pilimage.convert()\n",
    "    \n",
    "            current_image = np.asarray(tmp)\n",
    "            current_image = current_image.reshape((1,-1))\n",
    "            if self.dataset is None:\n",
    "                self.dataset = current_image\n",
    "            else:\n",
    "                self.dataset = np.append(self.dataset,current_image,axis=0)\n",
    "    \n",
    "            self.max_pixel_value.append(np.max(current_image,axis=1)[0])\n",
    "            self.n_features.append(current_image.shape[1])\n",
    "            index+=1\n",
    "        return self.dataset"
   ]
  },
  {
   "cell_type": "code",
   "execution_count": 3,
   "id": "318beaa0",
   "metadata": {},
   "outputs": [],
   "source": [
    "train = Dataset(\"train/\")\n",
    "N = train.N\n",
    "train_dataset = train.getDataset()"
   ]
  },
  {
   "cell_type": "code",
   "execution_count": 4,
   "id": "c76bddb5",
   "metadata": {},
   "outputs": [
    {
     "name": "stdout",
     "output_type": "stream",
     "text": [
      "Size of the Training Dataset = 20\n",
      "\n",
      "Shape of Data Matrix = (20, 10201)\n",
      "\n",
      "Maximum Pixel value in each image  = [255, 255, 255, 255, 255, 255, 255, 255, 255, 255, 227, 255, 255, 255, 255, 250, 255, 255, 255, 244]\n",
      "\n",
      "Dimension of each image vector = [10201, 10201, 10201, 10201, 10201, 10201, 10201, 10201, 10201, 10201, 10201, 10201, 10201, 10201, 10201, 10201, 10201, 10201, 10201, 10201]\n"
     ]
    }
   ],
   "source": [
    "print(\"Size of the Training Dataset = \" + str(N))\n",
    "print(\"\\nShape of Data Matrix = \" + str(train_dataset.shape))\n",
    "print(\"\\nMaximum Pixel value in each image  = \" + str(train.max_pixel_value)) # Checking whether images are gray scale\n",
    "print(\"\\nDimension of each image vector = \" + str(train.n_features))"
   ]
  },
  {
   "cell_type": "markdown",
   "id": "50e055bf",
   "metadata": {},
   "source": [
    "## Principal Component Analysis on the Training Data\n",
    "\n",
    "We will be projecting the data onto the principal components which are eigen vectors of the data covariance matrix.\n",
    "chosen in decreasing order of their eigen values.\n",
    "\n",
    "Dimensionality of each image vector = 101 * 101 = 10201\n",
    "Number of Data Samples = 20\n",
    "\n",
    "Here we have\n",
    "```math\n",
    "N << D\n",
    "```\n",
    "Therefore for the fast computation of eigen vectors and eigen values we need to use the **PCA for High Dimensionality method.**\n",
    "\n",
    "In the general PCA problem we find the principal components through the eigen analysis of \n",
    "<h3 align=\"center\">$S_{x} = \\frac{1}{N} X^{T}X$</h3>\n",
    "where \n",
    "\n",
    "\n",
    "<h4 align=\"center\"> $X = \\left[\\begin{array}{cc}\n",
    "(x_{1} - \\bar{x} )^T\\\\\n",
    "(x_{2} - \\bar{x} )^T \\\\\n",
    "... \\\\\n",
    "(x_{N}- \\bar{x} )^T \\\\\n",
    "\\end{array}\\right]$ </h4>\n",
    "\n",
    "For making computation easier we convert the problem into finding the eigen vectors $V$ of $\\frac{1}{N} XX^{T}$ and convert it back to eigen vectors $U$ of $S_{x}$ using the transformation\n",
    "<h4 align=\"center\"> $U_{i}=  \\frac{1}{\\sqrt{\\lambda_{i}N}} X^{T}V_{i}$ </h4>\n",
    "\n",
    "where $\\lambda_{i}$ corresponds to the eigen value of the eigen vector $V_{i}$. The eigen values remain the same for both $U$ and $V$ ."
   ]
  },
  {
   "cell_type": "markdown",
   "id": "bb12888a",
   "metadata": {},
   "source": [
    "### 1.Compute mean vector \n",
    "<h3 align=\"center\">$ \\bar{x}  = \\frac{1}{N} \\sum^{N}_{n=1} x_{n}$</h3>\n",
    "\n"
   ]
  },
  {
   "cell_type": "code",
   "execution_count": 5,
   "id": "9c99da5f",
   "metadata": {},
   "outputs": [
    {
     "name": "stdout",
     "output_type": "stream",
     "text": [
      "[[ 23  20  17 ... 121 215 255]\n",
      " [ 25  34  46 ... 163 227 255]\n",
      " [133 142 146 ...  95  95  95]\n",
      " ...\n",
      " [ 40  54  67 ...  34  32  32]\n",
      " [100 103 108 ... 109 117 103]\n",
      " [ 17  24  31 ...  61  59  54]]\n",
      "[[ 59.65  66.    70.85 ... 101.25 110.15 118.55]]\n"
     ]
    }
   ],
   "source": [
    "def compute_mean_vector(train_dataset,N, feature_size):\n",
    "    mean_vector = np.sum(train_dataset,axis = 0) * (1.0/N)\n",
    "    return mean_vector\n",
    "\n",
    "print(train_dataset)\n",
    "mean_vector = compute_mean_vector(train_dataset,train.N,10201).reshape((-1,10201))\n",
    "print(mean_vector)"
   ]
  },
  {
   "cell_type": "markdown",
   "id": "817a9c40",
   "metadata": {},
   "source": [
    "Plotting the mean vector as an image"
   ]
  },
  {
   "cell_type": "code",
   "execution_count": 6,
   "id": "a7f16e02",
   "metadata": {},
   "outputs": [
    {
     "data": {
      "text/plain": [
       "<matplotlib.image.AxesImage at 0x10f9e6e80>"
      ]
     },
     "execution_count": 6,
     "metadata": {},
     "output_type": "execute_result"
    },
    {
     "data": {
      "image/png": "[encoded data removed]",
      "text/plain": [
       "<Figure size 432x288 with 1 Axes>"
      ]
     },
     "metadata": {
      "needs_background": "light"
     },
     "output_type": "display_data"
    }
   ],
   "source": [
    "mean_vector_image = mean_vector.reshape((-1,101))\n",
    "plt.imshow(mean_vector_image,cmap='gray')"
   ]
  },
  {
   "cell_type": "markdown",
   "id": "bbb47541",
   "metadata": {},
   "source": [
    "###  2.Computing X"
   ]
  },
  {
   "cell_type": "code",
   "execution_count": 7,
   "id": "3b8b00a9",
   "metadata": {},
   "outputs": [
    {
     "name": "stdout",
     "output_type": "stream",
     "text": [
      "X = [[-36.65 -46.   -53.85 ...  19.75 104.85 136.45]\n",
      " [-34.65 -32.   -24.85 ...  61.75 116.85 136.45]\n",
      " [ 73.35  76.    75.15 ...  -6.25 -15.15 -23.55]\n",
      " ...\n",
      " [-19.65 -12.    -3.85 ... -67.25 -78.15 -86.55]\n",
      " [ 40.35  37.    37.15 ...   7.75   6.85 -15.55]\n",
      " [-42.65 -42.   -39.85 ... -40.25 -51.15 -64.55]]\n",
      "\n",
      "Shape of the mean centered data = (20, 10201)\n"
     ]
    }
   ],
   "source": [
    "def compute_mean_centered_data(data,mean_vec):\n",
    "    mean_centered_data = None\n",
    "    for i in range(len(data)):\n",
    "        tmp = data[i]\n",
    "        tmp = tmp - mean_vec\n",
    "        if(mean_centered_data is  None):\n",
    "            mean_centered_data = tmp\n",
    "        else:\n",
    "            mean_centered_data = np.append(mean_centered_data,tmp,axis=0)\n",
    "    return mean_centered_data\n",
    "\n",
    "mean_centered_train_data = compute_mean_centered_data(train_dataset,mean_vector)\n",
    "print(\"X = \" + str(mean_centered_train_data))\n",
    "print(\"\\nShape of the mean centered data = \" + str(mean_centered_train_data.shape))"
   ]
  },
  {
   "cell_type": "code",
   "execution_count": 8,
   "id": "96020602",
   "metadata": {},
   "outputs": [
    {
     "name": "stdout",
     "output_type": "stream",
     "text": [
      "Shape of (1/N)* XX^T = (20, 20)\n",
      "[ 731508.168875 -180654.846125 -338441.901125  538707.538875\n",
      "  -63182.228625  -75809.243625  128088.476375   96218.301375\n",
      " -138901.976125 -301318.953625  -15370.403625   31726.568875\n",
      " -107096.776125  -45149.133625  -12111.113625  -26296.966125\n",
      "  -59854.646125  -98461.063625 -108829.173625   45229.371375]\n"
     ]
    }
   ],
   "source": [
    "# Computing (1/N) XX^T and print its first row\n",
    "xx_t = np.matmul(mean_centered_train_data,mean_centered_train_data.transpose())\n",
    "xx_t = xx_t*(1.0/train.N)\n",
    "print(\"Shape of (1/N)* XX^T = \" + str(xx_t.shape))\n",
    "print(xx_t[0]) # First row of XX^T"
   ]
  },
  {
   "cell_type": "markdown",
   "id": "29a219e1",
   "metadata": {},
   "source": [
    "### 3. Eigen Analysis on ((1/N)* XX^T)"
   ]
  },
  {
   "cell_type": "code",
   "execution_count": 9,
   "id": "508d37e3",
   "metadata": {},
   "outputs": [
    {
     "name": "stdout",
     "output_type": "stream",
     "text": [
      "\n",
      "Largest Eigen Value = 4067593.362514747\n",
      "\n",
      "Eigen Vector corresponding to the largest eigen value\n",
      "\n",
      "[ 0.18949923 -0.15876463 -0.24148989  0.16378171 -0.49861199 -0.16148795\n",
      "  0.37947542  0.09795291  0.19686721  0.16096035 -0.04252438  0.07470279\n",
      "  0.21053479  0.14718294 -0.27895356 -0.27200181  0.15255082  0.04979716\n",
      " -0.30325338  0.13378227]\n",
      "\n",
      "Eigen Values in Descending Order\n",
      "\n",
      "4067593.362514747\n",
      "1966107.3063327337\n",
      "1623462.5813724461\n",
      "966801.0864126948\n",
      "767244.6200574421\n",
      "742652.4551385873\n",
      "627036.6366674971\n",
      "503979.38404914085\n",
      "393172.88601326285\n",
      "377408.96206332213\n",
      "322550.2709093349\n",
      "313076.557532429\n",
      "237484.58799280517\n",
      "211947.43070237903\n",
      "180493.58881191208\n",
      "169641.8139907041\n",
      "144597.82477177237\n",
      "123092.60960041301\n",
      "86976.00756637644\n",
      "3.4481217722232183e-10\n",
      "\n",
      "\n"
     ]
    }
   ],
   "source": [
    "eigen_values, eigen_vectors = np.linalg.eigh(xx_t)\n",
    "\n",
    "\n",
    "# Sort the eigen values and vectors by decreasing eigen values\n",
    "indices = np.argsort(eigen_values)[::-1]\n",
    "eigen_values = eigen_values[indices]\n",
    "eigen_vectors = eigen_vectors[:,indices]\n",
    "\n",
    "\n",
    "print(\"\\nLargest Eigen Value = \" + str(eigen_values[0])) # Print the largest eigen value \n",
    "print(\"\\nEigen Vector corresponding to the largest eigen value\\n\\n\" + str(eigen_vectors[:,1])) # The eigen vector corresponding to eigen value eigen_values[0]\n",
    "\n",
    "print(\"\\nEigen Values in Descending Order\\n\")\n",
    "for i in range(len(eigen_values)):\n",
    "    print(eigen_values[i])\n",
    "print(\"\\n\")"
   ]
  },
  {
   "cell_type": "markdown",
   "id": "cfa7f41a",
   "metadata": {},
   "source": [
    "We note that the variance along each principal component is very high except the last principal component."
   ]
  },
  {
   "cell_type": "markdown",
   "id": "245aab91",
   "metadata": {},
   "source": [
    "### 4. Transform eigen vectors to the eigen vectors of the data covariance matrix\n",
    "\n",
    "<h4 align=\"center\"> $U_{i}=  \\frac{1}{\\sqrt{\\lambda_{i}N}} X^{T}V_{i}$ </h4>\n"
   ]
  },
  {
   "cell_type": "code",
   "execution_count": 10,
   "id": "5193b64a",
   "metadata": {},
   "outputs": [
    {
     "name": "stdout",
     "output_type": "stream",
     "text": [
      "[[ 1.15826488e-03 -1.78959860e-02  2.17228753e-03 ...  1.86726779e-02\n",
      "   1.60713894e-02  1.36764667e-10]\n",
      " [ 1.50926317e-03 -1.73825233e-02  1.05655270e-03 ...  1.65266462e-02\n",
      "   9.05961820e-03 -1.47060697e-10]\n",
      " [ 1.97878850e-03 -1.71250715e-02  5.24904960e-04 ...  1.25831944e-02\n",
      "   2.72848225e-03  3.99501081e-10]\n",
      " ...\n",
      " [-8.06398685e-04 -1.89499116e-02  3.42941717e-02 ...  1.55630749e-02\n",
      "   1.22442797e-02  2.01773961e-09]\n",
      " [-4.67369271e-04 -1.92814163e-02  4.33195925e-02 ...  1.65154982e-02\n",
      "   2.62994218e-02  2.70698457e-09]\n",
      " [-3.48230110e-03 -2.17133293e-02  4.31992524e-02 ...  1.95291795e-02\n",
      "   3.94973998e-02  1.90490038e-09]]\n"
     ]
    }
   ],
   "source": [
    "U = None\n",
    "\n",
    "for i in range(eigen_vectors.shape[1]):\n",
    "    eigen_vector = eigen_vectors[:,i].reshape((train.N,-1))# Each V_{i}\n",
    "    #print(eigen_vector)\n",
    "    ui = np.matmul(mean_centered_train_data.transpose(),eigen_vector)*(1.0/math.sqrt(np.abs(eigen_values[i])*train.N))\n",
    "    if U is None:\n",
    "        U = ui\n",
    "    else:\n",
    "        U = np.append(U,ui,axis=1) # U becomes a 10201*20 matrix\n",
    "\n",
    "print(U) # Each u_{i} will be U[:,i] where 10201 is the dimension of each u_{i}"
   ]
  },
  {
   "cell_type": "code",
   "execution_count": 11,
   "id": "052b194c",
   "metadata": {},
   "outputs": [
    {
     "name": "stdout",
     "output_type": "stream",
     "text": [
      "[ 0.00115826  0.00150926  0.00197879 ... -0.0008064  -0.00046737\n",
      " -0.0034823 ]\n"
     ]
    }
   ],
   "source": [
    "print(U[:,0])"
   ]
  },
  {
   "cell_type": "markdown",
   "id": "b521b18f",
   "metadata": {},
   "source": [
    "**K = Number of principal components chosen**"
   ]
  },
  {
   "cell_type": "code",
   "execution_count": 12,
   "id": "12dd2988",
   "metadata": {},
   "outputs": [
    {
     "data": {
      "text/plain": [
       "(10201, 17)"
      ]
     },
     "execution_count": 12,
     "metadata": {},
     "output_type": "execute_result"
    }
   ],
   "source": [
    "K = 17 #Decided after performing analysis of LDA projections on varying K\n",
    "chosen_principal_components = U[:,:K]\n",
    "chosen_principal_components.shape"
   ]
  },
  {
   "cell_type": "markdown",
   "id": "1510e9c1",
   "metadata": {},
   "source": [
    "### Project the data on to the principal components\n",
    "\n",
    "<h4 align=\"center\"> $y_{n}=  U^{T} (x_{n} - \\bar{x})$ </h4>\n",
    "where U is matrix of dimensions KxD"
   ]
  },
  {
   "cell_type": "code",
   "execution_count": 13,
   "id": "da4706e3",
   "metadata": {},
   "outputs": [
    {
     "name": "stdout",
     "output_type": "stream",
     "text": [
      "(17, 20)\n"
     ]
    }
   ],
   "source": [
    "def project_data_principal_components(data,principal_components,N):\n",
    "    projected_data = None\n",
    "    for i in range(N):\n",
    "        data_point = data[i].reshape((-1,1))\n",
    "        projection = np.matmul(principal_components.transpose(),data_point)\n",
    "        if projected_data is None:\n",
    "            projected_data = projection\n",
    "        else:\n",
    "            projected_data = np.append(projected_data,projection,axis=1)\n",
    "    return projected_data\n",
    "\n",
    "\n",
    "\n",
    "pca_projected_train_data = project_data_principal_components(mean_centered_train_data,chosen_principal_components,train.N)\n",
    "print(pca_projected_train_data.shape)"
   ]
  },
  {
   "cell_type": "code",
   "execution_count": 14,
   "id": "5dec5db9",
   "metadata": {},
   "outputs": [
    {
     "name": "stdout",
     "output_type": "stream",
     "text": [
      "[-1193.08200197  1188.2998885   2829.29986404  -685.63731682\n",
      "   555.06912416  -332.76272668   151.45488427  -913.0827491\n",
      "   326.48045196  -146.0291758    238.73766881  -466.05747951\n",
      "  -623.19425976  -545.72218803   537.83088689   459.65300868\n",
      "   665.33260056]\n"
     ]
    }
   ],
   "source": [
    "#Projection of the first data point into the \n",
    "#first K principal components of decreasing eigen value\n",
    "\n",
    "print(pca_projected_train_data[:,0])"
   ]
  },
  {
   "cell_type": "markdown",
   "id": "4cdf142b",
   "metadata": {},
   "source": [
    "## Linear Discriminant Analysis\n",
    "\n",
    "In Linear Discriminant Analysis for 2 class problem we project the data points on to $W$ such that \n",
    "<h4 align=\"center\">$W \\propto  S_{w}^{-1}(m_{2} - m_{1})$ </h4>\n",
    "\n",
    "where \n",
    "<h4 align=\"center\">$m_{1}= \\frac{1}{N_{1}} \\sum_{n \\epsilon C_{1}} y_{n}$ </h4>\n",
    "\n",
    "<h4 align=\"center\">$m_{2}= \\frac{1}{N_{2}} \\sum_{n \\epsilon C_{2}} y_{n}$ </h4>\n",
    "\n",
    "<h4 align=\"center\">$S_{w}= \\sum^{2}_{k=1} \\frac{1}{N_{k}} \\sum_{n \\epsilon C_{k}} (y_{n}-m_{k})(y_{n}-m{k})^{T}$ </h4>\n",
    "\n",
    "$N_{k}$ denotes the number of data points belonging to class K."
   ]
  },
  {
   "cell_type": "code",
   "execution_count": 15,
   "id": "75265c1e",
   "metadata": {
    "scrolled": true
   },
   "outputs": [
    {
     "name": "stdout",
     "output_type": "stream",
     "text": [
      "(20, 17)\n"
     ]
    }
   ],
   "source": [
    "pca_projected_train_data = pca_projected_train_data.transpose() # Taking transpose for performing the matrix multiplication\n",
    "print(pca_projected_train_data.shape)"
   ]
  },
  {
   "cell_type": "code",
   "execution_count": 16,
   "id": "357207a8",
   "metadata": {},
   "outputs": [
    {
     "name": "stdout",
     "output_type": "stream",
     "text": [
      "[-197.35958317 -638.95258043  102.36206762 -144.99668997  226.54976984\n",
      " -300.8188473    98.18956449  376.28692888   83.43507757   29.00773317\n",
      "  -12.15993823 -218.53822016  206.82438227  -13.6397201    -1.26810471\n",
      "  -66.25425753  -65.47233866]\n",
      "[ 161.4760226   522.77938399  -83.7507826   118.63365543 -185.35890259\n",
      "  246.12451143  -80.3369164  -307.87112363  -68.26506347  -23.73359986\n",
      "    9.94904037  178.80399831 -169.21994913   11.15977099    1.03754022\n",
      "   54.20802889   53.56827709]\n"
     ]
    }
   ],
   "source": [
    "# Computing m1 and m2\n",
    "def create_mean_happy_sad(dataset,projected_data):\n",
    "    mean_happy = np.sum(projected_data[dataset.happy_indices],axis=0)*(1.0/len(dataset.happy_indices))\n",
    "    mean_sad = np.sum(projected_data[dataset.sad_indices],axis=0)*(1.0/len(dataset.sad_indices))\n",
    "    return mean_happy,mean_sad\n",
    "\n",
    "mean_happy,mean_sad = create_mean_happy_sad(train,pca_projected_train_data)\n",
    "print(mean_happy)\n",
    "print(mean_sad)"
   ]
  },
  {
   "cell_type": "markdown",
   "id": "5768835b",
   "metadata": {},
   "source": [
    "Computing $S_{w}$ by taking the summation of covariance matrices of both the classes"
   ]
  },
  {
   "cell_type": "code",
   "execution_count": 17,
   "id": "56cff6ef",
   "metadata": {
    "scrolled": true
   },
   "outputs": [],
   "source": [
    "def compute_Sw(dataset,projected_data,mean_happy,mean_sad):\n",
    "    happy_covariance_matrix = None\n",
    "    for i in range(len(dataset.happy_indices)):\n",
    "        vector = (projected_data[dataset.happy_indices[i]] - mean_happy.reshape((1,-1))).reshape((-1,1))\n",
    "        if happy_covariance_matrix is None:\n",
    "            happy_covariance_matrix = (np.matmul(vector,vector.transpose()))#*(1.0/len(train.happy_indices))\n",
    "        else:\n",
    "            happy_covariance_matrix += (np.matmul(vector,vector.transpose()))#*(1.0/len(train.happy_indices))\n",
    "\n",
    "    sad_covariance_matrix = None\n",
    "    for i in range(len(train.sad_indices)):\n",
    "        vector = (projected_data[dataset.sad_indices[i]] - mean_sad.reshape((1,-1))).reshape((-1,1))\n",
    "        if sad_covariance_matrix is None:\n",
    "            sad_covariance_matrix = (np.matmul(vector,vector.transpose()))#*(1.0/len(train.sad_indices))\n",
    "        else:\n",
    "            sad_covariance_matrix += (np.matmul(vector,vector.transpose()))#*(1.0/len(train.sad_indices))\n",
    "    \n",
    "    Sw = happy_covariance_matrix + sad_covariance_matrix\n",
    "    print(Sw.shape)\n",
    "    Sw_inv = np.linalg.inv(Sw)\n",
    "    print(Sw_inv.shape)\n",
    "    return Sw_inv\n",
    "    "
   ]
  },
  {
   "cell_type": "code",
   "execution_count": 18,
   "id": "396667c5",
   "metadata": {},
   "outputs": [
    {
     "name": "stdout",
     "output_type": "stream",
     "text": [
      "(17, 17)\n",
      "(17, 17)\n"
     ]
    }
   ],
   "source": [
    "Sw_inv = compute_Sw(train,pca_projected_train_data,mean_happy,mean_sad)\n"
   ]
  },
  {
   "cell_type": "markdown",
   "id": "82565bac",
   "metadata": {},
   "source": [
    "### Finding the projection vector W"
   ]
  },
  {
   "cell_type": "code",
   "execution_count": 19,
   "id": "c760f393",
   "metadata": {},
   "outputs": [
    {
     "name": "stdout",
     "output_type": "stream",
     "text": [
      "[[-3.84451125e-08]\n",
      " [-2.57502742e-07]\n",
      " [ 4.99593999e-08]\n",
      " [-1.18834189e-07]\n",
      " [ 2.33964637e-07]\n",
      " [-3.20951839e-07]\n",
      " [ 1.24077451e-07]\n",
      " [ 5.91598151e-07]\n",
      " [ 1.68145621e-07]\n",
      " [ 6.09006643e-08]\n",
      " [-2.98713193e-08]\n",
      " [-5.53091901e-07]\n",
      " [ 6.90059839e-07]\n",
      " [-5.09914955e-08]\n",
      " [-5.56690465e-09]\n",
      " [-3.09457727e-07]\n",
      " [-3.58770347e-07]]\n"
     ]
    }
   ],
   "source": [
    "m2_m1 = mean_happy.reshape((-1,1))- mean_sad.reshape((-1,1))\n",
    "\n",
    "lda_projection_vector = np.matmul(Sw_inv,m2_m1/np.linalg.norm(m2_m1))\n",
    "print(lda_projection_vector)"
   ]
  },
  {
   "cell_type": "markdown",
   "id": "a1fa08fd",
   "metadata": {},
   "source": [
    "### Projecting all the data points onto W"
   ]
  },
  {
   "cell_type": "code",
   "execution_count": 20,
   "id": "22fe5de2",
   "metadata": {},
   "outputs": [
    {
     "name": "stdout",
     "output_type": "stream",
     "text": [
      "[-0.000811522388995443, -0.0009413140992846617, 0.0011294698359255047, 0.0010631538069353784, 0.0009807499785211872, -0.0005748721706071203, -0.0007938149393889365, -0.0008350343263207813, -0.0008954020668664947, -0.0007756919937677891, 0.0008059455114630838, 0.0010113607591298156, -0.00018866205391415838, -0.0009702002377325318, -0.0007690520493778709, 0.0009368123549213657, 0.0003092661864987695, 0.0010015520325520149, 0.0008910097719325466, -0.0005737539116238691]\n"
     ]
    }
   ],
   "source": [
    "projection_lda_train = []\n",
    "for i in range(len(pca_projected_train_data)):\n",
    "    projection_value = np.matmul(pca_projected_train_data[i],lda_projection_vector)[0]\n",
    "    projection_lda_train.append(projection_value)\n",
    "print(projection_lda_train)"
   ]
  },
  {
   "cell_type": "code",
   "execution_count": 21,
   "id": "613f1011",
   "metadata": {
    "scrolled": true
   },
   "outputs": [
    {
     "data": {
      "image/png": "[encoded data removed]",
      "text/plain": [
       "<Figure size 432x288 with 1 Axes>"
      ]
     },
     "metadata": {
      "needs_background": "light"
     },
     "output_type": "display_data"
    }
   ],
   "source": [
    "# Setting range for the x axis\n",
    "max_value =  max(projection_lda_train) \n",
    "min_value = max(projection_lda_train)\n",
    "\n",
    "y = 0 # Y coordinate set as 0 so that we get a number line representation\n",
    "\n",
    "for h in train.happy_indices:\n",
    "    plt.plot(projection_lda_train[h],y,'ro')  # Red for happy classes\n",
    "\n",
    "for s in train.sad_indices:\n",
    "    plt.plot(projection_lda_train[s],y,'bo') # Blue for sad classes\n",
    "    \n",
    "\n",
    "# The projection of the mean vectors onto W. represented as cyan dots\n",
    "happy_mean_projection = np.matmul(mean_happy.reshape((1,-1)),lda_projection_vector)[0] \n",
    "sad_mean_projection = np.matmul(mean_sad.reshape((1,-1)),lda_projection_vector)[0]\n",
    "\n",
    "plt.plot(happy_mean_projection,y,'cp')\n",
    "plt.plot(sad_mean_projection,y,'cp')\n",
    "\n",
    "plt.show()\n"
   ]
  },
  {
   "cell_type": "markdown",
   "id": "c1d6209c",
   "metadata": {},
   "source": [
    "We see that we are able to have a clear distinction between the happy and sad faces after projecting onto W. We can setup our discriminant as\n",
    "\n",
    "```\n",
    "if(projected_value >= 0)\n",
    "    class = \"happy\"\n",
    "else\n",
    "    class = \"sad\"\n",
    "```"
   ]
  },
  {
   "cell_type": "code",
   "execution_count": 22,
   "id": "ecb3c7ed",
   "metadata": {},
   "outputs": [
    {
     "name": "stdout",
     "output_type": "stream",
     "text": [
      "Chosen Principal Components size2\n",
      "(2, 2)\n",
      "(2, 2)\n"
     ]
    },
    {
     "data": {
      "image/png": "[encoded data removed]",
      "text/plain": [
       "<Figure size 432x288 with 1 Axes>"
      ]
     },
     "metadata": {
      "needs_background": "light"
     },
     "output_type": "display_data"
    },
    {
     "name": "stdout",
     "output_type": "stream",
     "text": [
      "Chosen Principal Components size3\n",
      "(3, 3)\n",
      "(3, 3)\n"
     ]
    },
    {
     "data": {
      "image/png": "[encoded data removed]",
      "text/plain": [
       "<Figure size 432x288 with 1 Axes>"
      ]
     },
     "metadata": {
      "needs_background": "light"
     },
     "output_type": "display_data"
    },
    {
     "name": "stdout",
     "output_type": "stream",
     "text": [
      "Chosen Principal Components size4\n",
      "(4, 4)\n",
      "(4, 4)\n"
     ]
    },
    {
     "data": {
      "image/png": "[encoded data removed]",
      "text/plain": [
       "<Figure size 432x288 with 1 Axes>"
      ]
     },
     "metadata": {
      "needs_background": "light"
     },
     "output_type": "display_data"
    },
    {
     "name": "stdout",
     "output_type": "stream",
     "text": [
      "Chosen Principal Components size5\n",
      "(5, 5)\n",
      "(5, 5)\n"
     ]
    },
    {
     "data": {
      "image/png": "[encoded data removed]",
      "text/plain": [
       "<Figure size 432x288 with 1 Axes>"
      ]
     },
     "metadata": {
      "needs_background": "light"
     },
     "output_type": "display_data"
    },
    {
     "name": "stdout",
     "output_type": "stream",
     "text": [
      "Chosen Principal Components size6\n",
      "(6, 6)\n",
      "(6, 6)\n"
     ]
    },
    {
     "data": {
      "image/png": "[encoded data removed]",
      "text/plain": [
       "<Figure size 432x288 with 1 Axes>"
      ]
     },
     "metadata": {
      "needs_background": "light"
     },
     "output_type": "display_data"
    },
    {
     "name": "stdout",
     "output_type": "stream",
     "text": [
      "Chosen Principal Components size7\n",
      "(7, 7)\n",
      "(7, 7)\n"
     ]
    },
    {
     "data": {
      "image/png": "[encoded data removed]",
      "text/plain": [
       "<Figure size 432x288 with 1 Axes>"
      ]
     },
     "metadata": {
      "needs_background": "light"
     },
     "output_type": "display_data"
    },
    {
     "name": "stdout",
     "output_type": "stream",
     "text": [
      "Chosen Principal Components size8\n",
      "(8, 8)\n",
      "(8, 8)\n"
     ]
    },
    {
     "data": {
      "image/png": "[encoded data removed]",
      "text/plain": [
       "<Figure size 432x288 with 1 Axes>"
      ]
     },
     "metadata": {
      "needs_background": "light"
     },
     "output_type": "display_data"
    },
    {
     "name": "stdout",
     "output_type": "stream",
     "text": [
      "Chosen Principal Components size9\n",
      "(9, 9)\n",
      "(9, 9)\n"
     ]
    },
    {
     "data": {
      "image/png": "[encoded data removed]",
      "text/plain": [
       "<Figure size 432x288 with 1 Axes>"
      ]
     },
     "metadata": {
      "needs_background": "light"
     },
     "output_type": "display_data"
    },
    {
     "name": "stdout",
     "output_type": "stream",
     "text": [
      "Chosen Principal Components size10\n",
      "(10, 10)\n",
      "(10, 10)\n"
     ]
    },
    {
     "data": {
      "image/png": "[encoded data removed]",
      "text/plain": [
       "<Figure size 432x288 with 1 Axes>"
      ]
     },
     "metadata": {
      "needs_background": "light"
     },
     "output_type": "display_data"
    },
    {
     "name": "stdout",
     "output_type": "stream",
     "text": [
      "Chosen Principal Components size11\n",
      "(11, 11)\n",
      "(11, 11)\n"
     ]
    },
    {
     "data": {
      "image/png": "[encoded data removed]",
      "text/plain": [
       "<Figure size 432x288 with 1 Axes>"
      ]
     },
     "metadata": {
      "needs_background": "light"
     },
     "output_type": "display_data"
    },
    {
     "name": "stdout",
     "output_type": "stream",
     "text": [
      "Chosen Principal Components size12\n",
      "(12, 12)\n",
      "(12, 12)\n"
     ]
    },
    {
     "data": {
      "image/png": "[encoded data removed]",
      "text/plain": [
       "<Figure size 432x288 with 1 Axes>"
      ]
     },
     "metadata": {
      "needs_background": "light"
     },
     "output_type": "display_data"
    },
    {
     "name": "stdout",
     "output_type": "stream",
     "text": [
      "Chosen Principal Components size13\n",
      "(13, 13)\n",
      "(13, 13)\n"
     ]
    },
    {
     "data": {
      "image/png": "[encoded data removed]",
      "text/plain": [
       "<Figure size 432x288 with 1 Axes>"
      ]
     },
     "metadata": {
      "needs_background": "light"
     },
     "output_type": "display_data"
    },
    {
     "name": "stdout",
     "output_type": "stream",
     "text": [
      "Chosen Principal Components size14\n",
      "(14, 14)\n",
      "(14, 14)\n"
     ]
    },
    {
     "data": {
      "image/png": "[encoded data removed]",
      "text/plain": [
       "<Figure size 432x288 with 1 Axes>"
      ]
     },
     "metadata": {
      "needs_background": "light"
     },
     "output_type": "display_data"
    },
    {
     "name": "stdout",
     "output_type": "stream",
     "text": [
      "Chosen Principal Components size15\n",
      "(15, 15)\n",
      "(15, 15)\n"
     ]
    },
    {
     "data": {
      "image/png": "[encoded data removed]",
      "text/plain": [
       "<Figure size 432x288 with 1 Axes>"
      ]
     },
     "metadata": {
      "needs_background": "light"
     },
     "output_type": "display_data"
    },
    {
     "name": "stdout",
     "output_type": "stream",
     "text": [
      "Chosen Principal Components size16\n",
      "(16, 16)\n",
      "(16, 16)\n"
     ]
    },
    {
     "data": {
      "image/png": "[encoded data removed]",
      "text/plain": [
       "<Figure size 432x288 with 1 Axes>"
      ]
     },
     "metadata": {
      "needs_background": "light"
     },
     "output_type": "display_data"
    },
    {
     "name": "stdout",
     "output_type": "stream",
     "text": [
      "Chosen Principal Components size17\n",
      "(17, 17)\n",
      "(17, 17)\n"
     ]
    },
    {
     "data": {
      "image/png": "[encoded data removed]",
      "text/plain": [
       "<Figure size 432x288 with 1 Axes>"
      ]
     },
     "metadata": {
      "needs_background": "light"
     },
     "output_type": "display_data"
    },
    {
     "name": "stdout",
     "output_type": "stream",
     "text": [
      "Chosen Principal Components size18\n",
      "(18, 18)\n",
      "(18, 18)\n"
     ]
    },
    {
     "data": {
      "image/png": "[encoded data removed]",
      "text/plain": [
       "<Figure size 432x288 with 1 Axes>"
      ]
     },
     "metadata": {
      "needs_background": "light"
     },
     "output_type": "display_data"
    },
    {
     "name": "stdout",
     "output_type": "stream",
     "text": [
      "Chosen Principal Components size19\n",
      "(19, 19)\n",
      "(19, 19)\n"
     ]
    },
    {
     "data": {
      "image/png": "[encoded data removed]",
      "text/plain": [
       "<Figure size 432x288 with 1 Axes>"
      ]
     },
     "metadata": {
      "needs_background": "light"
     },
     "output_type": "display_data"
    }
   ],
   "source": [
    "# Finding a suitable value of K that maximizes seperability\n",
    "\n",
    "def plot_LDA_different_K(mean_centered_data,dataset,eigen_vectors,K):\n",
    "    chosen_principal_components = eigen_vectors[:,:K]\n",
    "    pca_projected_data = project_data_principal_components(mean_centered_data,chosen_principal_components,dataset.N)\n",
    "    pca_projected_data = pca_projected_data.transpose()\n",
    "    mean_happy,mean_sad = create_mean_happy_sad(dataset,pca_projected_data)\n",
    "    Sw_inv = compute_Sw(dataset,pca_projected_data,mean_happy,mean_sad)\n",
    "    lda_projection_vector = np.matmul(Sw_inv,(mean_happy.reshape((-1,1))- mean_sad.reshape((-1,1))))\n",
    "    \n",
    "    lda_projections = []\n",
    "    for i in range(len(pca_projected_data)):\n",
    "        projection_value = np.matmul(pca_projected_data[i],lda_projection_vector)[0]\n",
    "        lda_projections.append(projection_value)\n",
    "    \n",
    "    \n",
    "    # Setting range for the x axis\n",
    "    max_value =  max(lda_projections) \n",
    "    min_value = max(lda_projections)\n",
    "\n",
    "    y = 0 \n",
    "\n",
    "    for h in dataset.happy_indices:\n",
    "        plt.plot(lda_projections[h],y,'ro')  \n",
    "\n",
    "    for s in dataset.sad_indices:\n",
    "        plt.plot(lda_projections[s],y,'bo') \n",
    "    \n",
    "    happy_mean_projection = np.matmul(mean_happy.reshape((1,-1)),lda_projection_vector)[0] \n",
    "    sad_mean_projection = np.matmul(mean_sad.reshape((1,-1)),lda_projection_vector)[0]\n",
    "\n",
    "    #plt.plot(happy_mean_projection,y,'cp')\n",
    "    #plt.plot(sad_mean_projection,y,'cp')\n",
    "\n",
    "    plt.show()\n",
    "\n",
    "    \n",
    "\n",
    "for i in range(2,20):\n",
    "    print(\"Chosen Principal Components size\" + str(i))\n",
    "    plot_LDA_different_K(mean_centered_train_data,train,U,i)    "
   ]
  },
  {
   "cell_type": "markdown",
   "id": "89c6096b",
   "metadata": {},
   "source": [
    "Based on the gap between the extreme endpoints 17 was decided for the number of principal components to use."
   ]
  },
  {
   "cell_type": "markdown",
   "id": "f4e5f54d",
   "metadata": {},
   "source": [
    "### Testing the Discriminant on the test dataset"
   ]
  },
  {
   "cell_type": "code",
   "execution_count": 23,
   "id": "da80cadc",
   "metadata": {},
   "outputs": [
    {
     "name": "stdout",
     "output_type": "stream",
     "text": [
      "(10, 10201)\n"
     ]
    }
   ],
   "source": [
    "test = Dataset(\"test/\")\n",
    "test_dataset = test.getDataset()\n",
    "print(test_dataset.shape)"
   ]
  },
  {
   "cell_type": "code",
   "execution_count": 24,
   "id": "2d5ef98b",
   "metadata": {},
   "outputs": [
    {
     "name": "stdout",
     "output_type": "stream",
     "text": [
      "(10, 10201)\n"
     ]
    }
   ],
   "source": [
    "# Subtract from the mean vector generated during training and create the mean centered test dataset\n",
    "mean_centered_test_data = None\n",
    "for i in range(len(test_dataset)):\n",
    "    tmp = test_dataset[i]\n",
    "    tmp = tmp - mean_vector\n",
    "    if(mean_centered_test_data is  None):\n",
    "        mean_centered_test_data = tmp\n",
    "    else:\n",
    "        mean_centered_test_data = np.append(mean_centered_test_data,tmp,axis=0)\n",
    "\n",
    "\n",
    "print(mean_centered_test_data.shape)"
   ]
  },
  {
   "cell_type": "code",
   "execution_count": 25,
   "id": "9a939f9d",
   "metadata": {},
   "outputs": [
    {
     "name": "stdout",
     "output_type": "stream",
     "text": [
      "(10, 17)\n"
     ]
    }
   ],
   "source": [
    "#Project the mean centered data onto the principal components derived from the training set\n",
    "pca_projected_test_data = np.matmul(mean_centered_test_data,chosen_principal_components)\n",
    "print(pca_projected_test_data.shape)"
   ]
  },
  {
   "cell_type": "code",
   "execution_count": 26,
   "id": "5e2f501e",
   "metadata": {},
   "outputs": [
    {
     "name": "stdout",
     "output_type": "stream",
     "text": [
      "[0.0002714343406944489, 0.0006417924100201155, -0.000935678714548345, -0.00037178317881557925, 0.0001615649700147187, -0.0006899903207635916, 0.0011401470895342188, 0.0004742876409438657, -0.0006300197532437273, 7.261167173241585e-06]\n"
     ]
    }
   ],
   "source": [
    "# Perform LDA on the test dataset using lda_projection vector derived from the training set\n",
    "projection_lda_test = []\n",
    "for i in range(len(pca_projected_test_data)):\n",
    "    projection_value = np.matmul(pca_projected_test_data[i],lda_projection_vector)[0]\n",
    "    projection_lda_test.append(projection_value)\n",
    "print(projection_lda_test)"
   ]
  },
  {
   "cell_type": "code",
   "execution_count": 27,
   "id": "62181292",
   "metadata": {},
   "outputs": [
    {
     "data": {
      "image/png": "[encoded data removed]",
      "text/plain": [
       "<Figure size 432x288 with 1 Axes>"
      ]
     },
     "metadata": {
      "needs_background": "light"
     },
     "output_type": "display_data"
    },
    {
     "name": "stdout",
     "output_type": "stream",
     "text": [
      "Classification Accuracy = 100.0\n"
     ]
    }
   ],
   "source": [
    "# Perform classification on the basis of projection made to W vector\n",
    "\n",
    "max_value =  max(projection_lda_test)\n",
    "min_value = max(projection_lda_test)\n",
    "\n",
    "misclassification_error = 0\n",
    "\n",
    "for i in range(len(test_dataset)):\n",
    "    if(projection_lda_test[i]>= 0):\n",
    "        predicted_class = 'happy'\n",
    "    else:\n",
    "        predicted_class = 'sad'\n",
    "        \n",
    "        \n",
    "    if i in test.happy_indices:\n",
    "        actual_class ='happy' \n",
    "    else:\n",
    "        actual_class = 'sad'\n",
    "    \n",
    "    if(predicted_class!=actual_class):\n",
    "        misclassification_error+=1\n",
    "        if(actual_class=='happy'):\n",
    "            plt.plot(projection_lda_test[i],y,'rx')\n",
    "        else:\n",
    "            plt.plot(projection_lda_test[i],y,'bx')\n",
    "    else:\n",
    "        if (actual_class=='happy'):\n",
    "            plt.plot(projection_lda_test[i],y,'ro')\n",
    "        else:\n",
    "            plt.plot(projection_lda_test[i],y,'bo')\n",
    "\n",
    "classification_accuracy = (float(len(test_dataset)-misclassification_error))/(len(test_dataset)) * 100\n",
    "plt.plot([0, 0], [1, -1], marker = 'o')\n",
    "plt.title(\"K=\" + str(K) + \"\\n Classification Accuracy = \" + str(classification_accuracy))\n",
    "\n",
    "plt.show()   \n",
    "print(\"Classification Accuracy = \" + str(classification_accuracy))"
   ]
  },
  {
   "cell_type": "code",
   "execution_count": null,
   "id": "72588c48",
   "metadata": {},
   "outputs": [],
   "source": []
  }
 ],
 "metadata": {
  "kernelspec": {
   "display_name": "Python 3 (ipykernel)",
   "language": "python",
   "name": "python3"
  },
  "language_info": {
   "codemirror_mode": {
    "name": "ipython",
    "version": 3
   },
   "file_extension": ".py",
   "mimetype": "text/x-python",
   "name": "python",
   "nbconvert_exporter": "python",
   "pygments_lexer": "ipython3",
   "version": "3.9.10"
  }
 },
 "nbformat": 4,
 "nbformat_minor": 5
}
