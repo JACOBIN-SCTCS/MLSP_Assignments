{
 "cells": [
  {
   "cell_type": "markdown",
   "id": "5d1f97d5-65b6-43f9-b0e8-bb70228b36d2",
   "metadata": {},
   "source": [
    "# GMM for Music and Speech Audio Classification\n",
    "\n",
    "Uses Gaussian Mixture Models and EM Algorithm to classify music and speech audio files.\n",
    "\n",
    "Libraries used:\n",
    "1) Numpy - for numerical computations such as fft(), dot operator\n",
    "2) Scipy - to read the .wav file and find the likelihood of data points\n",
    "3) Matplotlib - to plot the spectogram"
   ]
  },
  {
   "cell_type": "code",
   "execution_count": 1,
   "id": "932b2c92-06b6-4696-b527-d43e9fa5229b",
   "metadata": {},
   "outputs": [],
   "source": [
    "import numpy as np\n",
    "\n",
    "from scipy.io import wavfile\n",
    "from scipy import signal\n",
    "from scipy.stats import multivariate_normal\n",
    "\n",
    "import matplotlib.pyplot as plt\n",
    "import os\n",
    "import random"
   ]
  },
  {
   "cell_type": "markdown",
   "id": "392b6262-8896-4f2b-9556-9b902001b1c0",
   "metadata": {},
   "source": [
    "### Question 3) a)"
   ]
  },
  {
   "cell_type": "markdown",
   "id": "fcb64d1c-2d47-4edf-a22b-3cf3545683ac",
   "metadata": {},
   "source": [
    "### Function read_audio()\n",
    "\n",
    "Reads the .wav file and returns the sample_rate and the wav_file."
   ]
  },
  {
   "cell_type": "code",
   "execution_count": 2,
   "id": "321fdb51-71f1-4837-bb30-75789978c297",
   "metadata": {},
   "outputs": [],
   "source": [
    "def read_audio(folder, input):\n",
    "    sample_rate, wav_file = wavfile.read('speech_music_classification/'+folder+input)\n",
    "    \n",
    "    #print(\"Sample rate\", sample_rate)\n",
    "    \n",
    "    length = len(wav_file)\n",
    "    \n",
    "    #print(length, wav_file)\n",
    "    \n",
    "    time_frame = length / sample_rate\n",
    "    \n",
    "    #To plot the audio wave\n",
    "    #time = [i/sample_rate for i in range(len(wav_file))]\n",
    "    #plt.plot(time, wav_file)\n",
    "    #plt.show()\n",
    "    \n",
    "    return sample_rate, wav_file"
   ]
  },
  {
   "cell_type": "markdown",
   "id": "8b6137a0-3138-4912-a039-25b2a5c0e031",
   "metadata": {},
   "source": [
    "### Function fft()\n",
    "\n",
    "<strong> Window size </strong> = 25 ms = 25 / 1000 * 16000 = 400 samples\n",
    "\n",
    "<strong> Shift </strong> = 10 ms = 10 / 1000 * 16000 = 160 samples\n",
    "\n",
    "##### For each window, computes 64 point magnitude FFT and retains the first 32 dimensions in each window, apply log of the magnitude of the FFT.\n",
    "\n",
    "##### Returns the spectogram of dimension 32 x 2998."
   ]
  },
  {
   "cell_type": "code",
   "execution_count": 3,
   "id": "7e34b1c4-0c18-4c07-9672-ec7e73f75c06",
   "metadata": {},
   "outputs": [],
   "source": [
    "def fft(sample_rate, wav_file):\n",
    "    length = len(wav_file)\n",
    "    \n",
    "    start = 0\n",
    "    window_size = 25 * sample_rate // 1000\n",
    "\n",
    "    shift = 10 * sample_rate // 1000\n",
    "    \n",
    "    #print(\"Windows size\", window_size)\n",
    "    #print(\"Shift\", shift)\n",
    "\n",
    "    i = 0\n",
    "    while start + window_size <= length:    \n",
    "        fft = np.abs(np.fft.fft(wav_file[start:start+window_size], axis= 0 , n=64)[:32])\n",
    "        with np.errstate(divide='ignore'):\n",
    "            fft = np.log(fft)\n",
    "        fft[np.isneginf(fft)]=0\n",
    "        \n",
    "        if start == 0:\n",
    "            spectogram = fft\n",
    "        else:\n",
    "            spectogram = np.vstack((spectogram, fft))\n",
    "\n",
    "        start += shift\n",
    "        i+=1\n",
    "    \n",
    "    return spectogram"
   ]
  },
  {
   "cell_type": "markdown",
   "id": "59d9227a-78ff-4dd2-95b9-a63ac381781b",
   "metadata": {},
   "source": [
    "### Function get_input_vector()\n",
    "\n",
    "Reads the audio files in train dataset and performs fft on it to get the respective spectogram. \n",
    "\n",
    "#### Returns the spectogram of all audio files in the given folder as a combined input vector. "
   ]
  },
  {
   "cell_type": "code",
   "execution_count": 4,
   "id": "17c6b78d-677c-4713-99f8-629b0b00be93",
   "metadata": {},
   "outputs": [],
   "source": [
    "def get_input_vector(path, folder_name):\n",
    "    input_feature = np.zeros((0, 32))\n",
    "\n",
    "    for dirname, _, filenames in os.walk(path):\n",
    "        for filename in filenames:\n",
    "            sample_rate, audio_wav = read_audio(folder_name, filename)\n",
    "            audio_spec = fft(sample_rate, audio_wav)\n",
    "\n",
    "            #plot_spectogram(audio_spec)\n",
    "\n",
    "            input_feature = np.vstack((input_feature, audio_spec))\n",
    "    return input_feature"
   ]
  },
  {
   "cell_type": "markdown",
   "id": "0343b639-9c44-4c0c-a79f-dd38e8bf27e2",
   "metadata": {},
   "source": [
    "#### Gets the input vector for the music files in train folder"
   ]
  },
  {
   "cell_type": "code",
   "execution_count": 5,
   "id": "e1c481a0-0c36-431d-a636-984bb3b558e3",
   "metadata": {},
   "outputs": [
    {
     "name": "stdout",
     "output_type": "stream",
     "text": [
      "Shape of Music Audio input  (119920, 32)\n"
     ]
    }
   ],
   "source": [
    "music_feature = get_input_vector(\"speech_music_classification/train/music\", 'train/music/')\n",
    "\n",
    "print(\"Shape of Music Audio input \", music_feature.shape)"
   ]
  },
  {
   "cell_type": "markdown",
   "id": "0cb9a953-2a1e-440e-bd6a-8a3ab1a73e11",
   "metadata": {},
   "source": [
    "#### Gets the input vector for the speech files in train folder"
   ]
  },
  {
   "cell_type": "code",
   "execution_count": 6,
   "id": "27f50556-02d3-4e03-897b-e6659033aa3f",
   "metadata": {},
   "outputs": [
    {
     "name": "stdout",
     "output_type": "stream",
     "text": [
      "Shape of Speech Audio input  (119920, 32)\n"
     ]
    }
   ],
   "source": [
    "speech_feature = get_input_vector(\"speech_music_classification/train/speech\", 'train/speech/')\n",
    "\n",
    "print(\"Shape of Speech Audio input \", speech_feature.shape)"
   ]
  },
  {
   "cell_type": "markdown",
   "id": "894e0c6c-427f-44ef-af6a-0bd8e4671710",
   "metadata": {},
   "source": [
    "### Class KMeans\n",
    "\n",
    "#### Attributes\n",
    "1) n_clusters : Number of clusters\n",
    "2) centroid:    Centroid of each cluster\n",
    "3) clusters:    Data points in each cluster\n",
    "4) max_iter:    Maximum iteration limit\n",
    "5) tol:         Error tolerance\n",
    "\n",
    "#### Function fit(X)\n",
    "\n",
    "Performs KMeans clustering algorithm on the given input data.\n",
    "\n",
    "Computes the centroid and data points present on each cluster."
   ]
  },
  {
   "cell_type": "code",
   "execution_count": 7,
   "id": "4f93d7f2-b982-429f-beb4-ccdc12d6a125",
   "metadata": {},
   "outputs": [],
   "source": [
    "class KMeans():\n",
    "    def __init__(self, n_clusters, max_iter, tol = 0.001):\n",
    "        self.n_clusters = n_clusters\n",
    "        self.max_iter   = max_iter\n",
    "        self.tol        = tol\n",
    "        \n",
    "    # X - shape (n_samples, n_features)\n",
    "    def fit(self, X):\n",
    "        \n",
    "        self.centroid = [np.random.rand(X.shape[1], X.shape[1]) for i in range(self.n_clusters)]\n",
    "        \n",
    "        data_points = random.sample(range(X.shape[0]), self.n_clusters)\n",
    "        \n",
    "        for i in range(self.n_clusters):\n",
    "            self.centroid[i] = X[data_points[i]]\n",
    "        \n",
    "        epsilon = self.tol + 1\n",
    "        for i in range(self.max_iter):\n",
    "            \n",
    "            if epsilon < self.tol:\n",
    "                break\n",
    "            \n",
    "            self.clusters = [[] for i in range(self.n_clusters)]\n",
    "            \n",
    "            for sample in X:\n",
    "                idx = np.argmin(np.array([np.linalg.norm(self.centroid[k] - sample) for k in range(self.n_clusters)])) \n",
    "                self.clusters[idx].append(sample)\n",
    "            \n",
    "            previous_centroid = self.centroid[:]\n",
    "            \n",
    "            epsilon = 0\n",
    "            for j in range(self.n_clusters):\n",
    "                \n",
    "                if len(self.clusters[j]) == 0:\n",
    "                    continue\n",
    "                    \n",
    "                self.centroid[j] = np.mean(np.array(self.clusters[j]), axis = 0)\n",
    "\n",
    "                err = abs(self.centroid[j] - previous_centroid[j])\n",
    "                epsilon = max(epsilon, sum(err))\n"
   ]
  },
  {
   "cell_type": "markdown",
   "id": "ea2fbbb1-498a-442a-b33c-0054ec6e8941",
   "metadata": {},
   "source": [
    "### Class GMM\n",
    "\n",
    "#### Attributes\n",
    "1) n_mixtures:         Number of Gaussian Mixture Components\n",
    "2) covariance_type:    Type of covariance matrix\n",
    "3) clusters:           Data points in each cluster\n",
    "4) max_iter:           Maximum iteration limit\n",
    "5) tol:                Error tolerance\n",
    "\n",
    "#### Function initialize(mean, sigma)\n",
    "\n",
    "Initilizes the EM Iteration algorithm by setting mean and sigma to those obtained by KMean algorithm.\n",
    "\n",
    "And $\\alpha_l = 1 / M $, where $ l \\in 1,...,M $\n",
    "\n",
    "#### Function fit(X)\n",
    "\n",
    "Performs the EM iteration algorithm on the given data to find the parameter for the GMM\n",
    "\n",
    "Plots the log-likelihood for each EM iteration.\n",
    "\n",
    "#### Function expectation_step(X)\n",
    "\n",
    "Performs the Expectation step in EM algorithm\n",
    "\n",
    "Calculates the likelihood of the data points on each of the mixture components\n",
    "\n",
    "#### Function maximization_step(X)\n",
    "\n",
    "Performs the Maximization step in EM algorithm\n",
    "\n",
    "Updates alpha, mean and covariance based on the following equations:\n",
    "\n",
    "$ \\alpha_l^{new} = \\frac{\\sigma_{i=1}^N P(l | x_i, \\theta^n)}{N} $\n",
    "\n",
    "$ \\mu_l^{new} = \\frac{\\sigma_{i=1}^N x_i P(l | x_i, \\theta^n)}{\\sigma_{i=1}^N P(l | x_i, \\theta^n)} $\n",
    "\n",
    "$ \\sigma_l^{new} = \\frac{\\sigma_{i=1}^N P(l | x_i, \\theta^n) (x_i - \\mu_l^{new})(x_i - \\mu_l^{new})^T}{\\sigma_{i=1}^N P(l | x_i, \\theta^n)} $\n",
    "\n",
    "#### Function predict_likelihood(X)\n",
    "\n",
    "Estimates the likelihood of the given data points based on the current parameters of GMM\n",
    "\n",
    "#### Function calc_log_likelihood(X)\n",
    "\n",
    "Returns the log likelihood of the GMM on the current iteration"
   ]
  },
  {
   "cell_type": "code",
   "execution_count": 8,
   "id": "822d3ff1-c2a2-42c7-ae64-d197a19be722",
   "metadata": {},
   "outputs": [],
   "source": [
    "class GMM:\n",
    "    def __init__(self, n_mixtures, covariance_type, max_iter = 40, tol = 0.0001):\n",
    "        self.n_mixtures = n_mixtures\n",
    "        self.max_iter = max_iter\n",
    "        self.tol = tol\n",
    "        self.covariance_type = covariance_type\n",
    "        \n",
    "    def initialize(self, mean, sigma):\n",
    "        self.alpha = [(1/self.n_mixtures) for i in range(self.n_mixtures)]\n",
    "        self.mean  = mean\n",
    "        self.sigma = sigma\n",
    "        \n",
    "    def expectation_step(self, X):\n",
    "        self.likelihood_data = self.predict_likelihood(X)\n",
    "        \n",
    "    def maximization_step(self, X):\n",
    "        self.alpha = np.mean(self.predict_likelihood(X), axis=0)\n",
    "        \n",
    "        for i in range(self.n_mixtures):\n",
    "            like_prob = self.likelihood_data[:, i]\n",
    "            num = X * like_prob.reshape((X.shape[0], 1))\n",
    "            self.mean[i]  = np.sum(num, axis = 0) / np.sum(like_prob)\n",
    "            \n",
    "            cov = like_prob.reshape((1, X.shape[0])) * (X - self.mean[i]).T\n",
    "            cov = cov.dot((X - self.mean[i]))\n",
    "            cov /= np.sum(like_prob)\n",
    "            self.sigma[i] = cov\n",
    "            \n",
    "            if self.covariance_type == 'diag':\n",
    "                self.sigma = transform_to_diagonal_matrix(self.sigma)\n",
    "    \n",
    "    def predict_likelihood(self, X):\n",
    "        likelihood = np.zeros( (X.shape[0], self.n_mixtures))\n",
    "        \n",
    "        for i in range(self.n_mixtures):\n",
    "            distribution = multivariate_normal(mean=self.mean[i], cov=self.sigma[i])\n",
    "            likelihood[:,i] = distribution.pdf(X)\n",
    "            \n",
    "        likelihood_gmm = likelihood * self.alpha\n",
    "        total_likelihood = likelihood_gmm.sum(axis=1)[:, np.newaxis]\n",
    "        likelihood_gmm = likelihood_gmm / total_likelihood\n",
    "        return likelihood_gmm\n",
    "    \n",
    "    def calc_log_likelihood(self, X):\n",
    "        likelihood = np.zeros( (X.shape[0], self.n_mixtures) )\n",
    "        for i in range(self.n_mixtures):\n",
    "            distribution = multivariate_normal(mean=self.mean[i], cov=self.sigma[i])\n",
    "            likelihood[:,i] = distribution.pdf(X)\n",
    "            \n",
    "        numerator = likelihood * self.alpha\n",
    "        log_like = np.log(np.sum(numerator, axis=1))\n",
    "        log_like = np.sum(log_like)\n",
    "        return log_like\n",
    "    \n",
    "    # X - n_samples, n_features\n",
    "    def fit(self, X):\n",
    "        \n",
    "        log_likelihood = []\n",
    "        last = self.max_iter\n",
    "        \n",
    "        for i in range(self.max_iter):\n",
    "            self.expectation_step(X)\n",
    "            self.maximization_step(X)\n",
    "            \n",
    "            log_likelihood.append(self.calc_log_likelihood(X))\n",
    "            if i > 2 and abs(abs(log_likelihood[-1]) - abs(log_likelihood[-2])) < self.tol:\n",
    "                last = i+1\n",
    "                break\n",
    "        \n",
    "        plt.scatter([i for i in range(last)], log_likelihood, marker=\"o\", color='g', linewidths=5)  \n",
    "        plt.xlabel('Number of Iteration')\n",
    "        plt.ylabel('Log Likelihood')\n",
    "        plt.title('Log Likelihood for each EM iteration')\n",
    "        plt.show()"
   ]
  },
  {
   "cell_type": "markdown",
   "id": "7ae5eeb4-a04e-4c6a-9cdb-2277f8192dbc",
   "metadata": {},
   "source": [
    "### Question 3) b) i) \n",
    "\n",
    "##### Number of Mixtures = 2\n",
    "\n",
    "##### Covariance Matrix Type = Diagonal"
   ]
  },
  {
   "cell_type": "code",
   "execution_count": 9,
   "id": "ec0fd1da-8e24-4687-b55e-05852f9d00b0",
   "metadata": {},
   "outputs": [],
   "source": [
    "n_mixtures_ = 2\n",
    "covariance_type = 'diag'"
   ]
  },
  {
   "cell_type": "markdown",
   "id": "a6ca15c6-bf15-429e-9c04-3910feb19266",
   "metadata": {},
   "source": [
    "##### Performing KMeans clustering on Train Music feature data with 2 clusters"
   ]
  },
  {
   "cell_type": "code",
   "execution_count": 10,
   "id": "8224edfc-db4f-4bf5-890a-90c46c132f26",
   "metadata": {},
   "outputs": [],
   "source": [
    "k = KMeans(n_clusters = n_mixtures_, max_iter = 10)\n",
    "\n",
    "k.fit(music_feature)"
   ]
  },
  {
   "cell_type": "code",
   "execution_count": 11,
   "id": "41989f68",
   "metadata": {},
   "outputs": [
    {
     "name": "stdout",
     "output_type": "stream",
     "text": [
      "[array([10.42863996, 10.53896697, 10.48693325, 10.05680813,  9.77049862,\n",
      "        9.60407859,  9.51502464,  9.42731372,  9.31411259,  9.25919379,\n",
      "        9.16566387,  9.03380067,  8.92199979,  8.86418991,  8.69337344,\n",
      "        8.60678221,  8.46508496,  8.34280323,  8.27376743,  8.15679149,\n",
      "        8.05578534,  8.00146426,  7.92316069,  7.87154868,  7.84560258,\n",
      "        7.82749264,  7.80928265,  7.76226284,  7.74112206,  7.69094534,\n",
      "        7.65200138,  7.41137752]), array([10.08940197,  9.77482578,  9.47873336,  8.92312217,  8.53702038,\n",
      "        8.28245423,  8.07670143,  7.92232606,  7.7737536 ,  7.6137324 ,\n",
      "        7.48202013,  7.35929469,  7.22417517,  7.12871946,  6.9950093 ,\n",
      "        6.88778256,  6.75307123,  6.64034604,  6.55108249,  6.48523151,\n",
      "        6.4078991 ,  6.36022735,  6.35687368,  6.26343748,  6.22064411,\n",
      "        6.1756006 ,  6.16135247,  6.13241961,  6.13504015,  6.09690485,\n",
      "        6.07110016,  5.83218638])]\n"
     ]
    }
   ],
   "source": [
    "print(k.centroid)"
   ]
  },
  {
   "cell_type": "markdown",
   "id": "d0f78684-884d-4661-a3a9-8d77e72a3ac0",
   "metadata": {},
   "source": [
    "### Function transform_to_diagonal_matrix(matrix)\n",
    "\n",
    "Returns a matrix with diagonal elements of the given matrix"
   ]
  },
  {
   "cell_type": "code",
   "execution_count": 11,
   "id": "90c004e6-b451-4422-96d9-a4ffb3c5fde8",
   "metadata": {},
   "outputs": [],
   "source": [
    "def transform_to_diagonal_matrix(matrix):\n",
    "    for i in range(len(matrix)):\n",
    "        diag = np.einsum('ii->i', matrix[i])\n",
    "        save = diag.copy()\n",
    "        matrix[i][...] = 0\n",
    "        matrix[i] = np.diag(save)\n",
    "    return matrix"
   ]
  },
  {
   "cell_type": "markdown",
   "id": "9be68f34-6b87-4880-9b26-a31581ac3b2d",
   "metadata": {},
   "source": [
    "##### Calculates mean and covariance from the KMeans parameters"
   ]
  },
  {
   "cell_type": "code",
   "execution_count": 12,
   "id": "cd87008b-61fc-44cd-b6f9-d242f271f490",
   "metadata": {},
   "outputs": [],
   "source": [
    "mu_k_music = [k.centroid[0], k.centroid[1]]\n",
    "sigma_k_music = [np.cov(np.array(k.clusters[i]).T) for i in range(n_mixtures_)]\n",
    "\n",
    "if covariance_type == 'diag':\n",
    "    transform_to_diagonal_matrix(sigma_k_music)"
   ]
  },
  {
   "cell_type": "markdown",
   "id": "214d18ca-fe24-4590-b37e-8c0fc090b0d9",
   "metadata": {},
   "source": [
    "##### Finding the parameters of GMM for the given data "
   ]
  },
  {
   "cell_type": "code",
   "execution_count": 13,
   "id": "06ea3138-679b-4530-b0bb-2249594db545",
   "metadata": {},
   "outputs": [
    {
     "data": {
      "image/png": "[encoded data removed]",
      "text/plain": [
       "<Figure size 432x288 with 1 Axes>"
      ]
     },
     "metadata": {
      "needs_background": "light"
     },
     "output_type": "display_data"
    }
   ],
   "source": [
    "gmm_music = GMM(n_mixtures = n_mixtures_, covariance_type=covariance_type)\n",
    "\n",
    "gmm_music.initialize(mu_k_music[:], sigma_k_music[:])\n",
    "gmm_music.fit(music_feature)"
   ]
  },
  {
   "cell_type": "markdown",
   "id": "8008851b-c564-49a7-aa68-d8532ca0809c",
   "metadata": {},
   "source": [
    "##### Performing KMeans clustering on Train Speech feature data with 2 clusters"
   ]
  },
  {
   "cell_type": "code",
   "execution_count": 14,
   "id": "997cd91e-e658-42b1-b15e-29b8d257be79",
   "metadata": {},
   "outputs": [],
   "source": [
    "k = KMeans(n_clusters = n_mixtures_, max_iter = 10)\n",
    "\n",
    "k.fit(speech_feature)"
   ]
  },
  {
   "cell_type": "markdown",
   "id": "7a662f49-a834-4b24-8950-79e75ae5a287",
   "metadata": {},
   "source": [
    "##### Calculates mean and covariance from the KMeans parameters"
   ]
  },
  {
   "cell_type": "code",
   "execution_count": 15,
   "id": "43b345e7-5082-4b08-847c-2238e7224f59",
   "metadata": {},
   "outputs": [],
   "source": [
    "mu_k = [k.centroid[0], k.centroid[1]]\n",
    "sigma_k = [np.cov(np.array(k.clusters[i]).T) for i in range(n_mixtures_)]\n",
    "\n",
    "if covariance_type == 'diag':\n",
    "    transform_to_diagonal_matrix(sigma_k)"
   ]
  },
  {
   "cell_type": "markdown",
   "id": "0ec80684-dc3c-4450-b89a-87cb1c71ac6b",
   "metadata": {},
   "source": [
    "##### Finding the parameters of GMM for the given data "
   ]
  },
  {
   "cell_type": "code",
   "execution_count": 16,
   "id": "1d672f06-1ac9-47ed-a956-66a5a8e97359",
   "metadata": {},
   "outputs": [
    {
     "data": {
      "image/png": "[encoded data removed]",
      "text/plain": [
       "<Figure size 432x288 with 1 Axes>"
      ]
     },
     "metadata": {
      "needs_background": "light"
     },
     "output_type": "display_data"
    }
   ],
   "source": [
    "gmm_speech = GMM(n_mixtures = n_mixtures_, covariance_type=covariance_type)\n",
    "\n",
    "gmm_speech.initialize(mu_k[:], sigma_k[:])\n",
    "gmm_speech.fit(speech_feature)"
   ]
  },
  {
   "cell_type": "markdown",
   "id": "fd45f5b8-50c5-4b4d-8c0a-209745b90556",
   "metadata": {},
   "source": [
    "### Function misclassification_rate()\n",
    "\n",
    "Returns the percentage of misclassification done by the built classifiers"
   ]
  },
  {
   "cell_type": "code",
   "execution_count": 17,
   "id": "fb863ee2-1617-41cc-9438-9667bb16630b",
   "metadata": {},
   "outputs": [],
   "source": [
    "def misclassification_rate(gmm_speech, gmm_music):\n",
    "    error_count = 0\n",
    "    folders = ['speech_', 'music_']\n",
    "    for j in range(2):\n",
    "        for i in range(1, 24):\n",
    "            feature = np.zeros((0, 32))\n",
    "            sample_rate, clean_wav = read_audio('test/', folders[j]+str(i)+'.wav')\n",
    "            clean_spec = fft(sample_rate, clean_wav)\n",
    "\n",
    "            feature = np.vstack((feature, clean_spec))\n",
    "\n",
    "            likelihood_speech = gmm_speech.predict_likelihood(feature)\n",
    "            alpha_speech = gmm_speech.alpha\n",
    "            likelihood_gmm_speech = likelihood_speech * alpha_speech\n",
    "            likelihood_gmm_speech = np.sum(likelihood_gmm_speech, axis=1)\n",
    "            mean_likelihood_speech = np.mean(likelihood_gmm_speech)    \n",
    "\n",
    "            likelihood_music = gmm_music.predict_likelihood(feature)\n",
    "            alpha_music = gmm_music.alpha\n",
    "            likelihood_gmm_music = likelihood_music * alpha_music\n",
    "            likelihood_gmm_music = np.sum(likelihood_gmm_music, axis=1)\n",
    "            mean_likelihood_music = np.mean(likelihood_gmm_music)  \n",
    "\n",
    "            if j == 0 and mean_likelihood_speech < mean_likelihood_music:\n",
    "                error_count +=1\n",
    "            elif j == 1 and mean_likelihood_speech > mean_likelihood_music:\n",
    "                error_count += 1\n",
    "                \n",
    "    print(\"Misclassification rate: \", error_count/48 * 100, \"%\")"
   ]
  },
  {
   "cell_type": "markdown",
   "id": "215591f3-bd4e-41da-94c4-01ae06c10130",
   "metadata": {},
   "source": [
    "##### Calculates Misclassification Rate for the given data"
   ]
  },
  {
   "cell_type": "code",
   "execution_count": 18,
   "id": "949799de-4d57-4412-b321-17d46b3462ce",
   "metadata": {},
   "outputs": [
    {
     "name": "stdout",
     "output_type": "stream",
     "text": [
      "Misclassification rate:  18.75 %\n"
     ]
    }
   ],
   "source": [
    "misclassification_rate(gmm_speech, gmm_music)"
   ]
  },
  {
   "cell_type": "markdown",
   "id": "243fc001-e7d5-4aee-9c98-3b05a3faf9ca",
   "metadata": {},
   "source": [
    "### Question 3) b) ii) \n",
    "\n",
    "##### Number of Mixtures = 2\n",
    "\n",
    "##### Covariance Matrix Type = Full"
   ]
  },
  {
   "cell_type": "code",
   "execution_count": 19,
   "id": "b161c781-839e-442a-8e4e-6077b9a09ce3",
   "metadata": {},
   "outputs": [],
   "source": [
    "n_mixtures_ = 2\n",
    "covariance_type = 'full'"
   ]
  },
  {
   "cell_type": "markdown",
   "id": "8839040f-05ae-46c4-8f6d-755f7e78ee9d",
   "metadata": {},
   "source": [
    "##### Calculates mean and covariance from the KMeans parameters"
   ]
  },
  {
   "cell_type": "code",
   "execution_count": 20,
   "id": "ec7f1453-d679-4b8f-85d6-dc61c5691100",
   "metadata": {},
   "outputs": [],
   "source": [
    "mu_k_music = [k.centroid[0], k.centroid[1]]\n",
    "sigma_k_music = [np.cov(np.array(k.clusters[i]).T) for i in range(n_mixtures_)]\n",
    "\n",
    "if covariance_type == 'diag':\n",
    "    transform_to_diagonal_matrix(sigma_k_music)"
   ]
  },
  {
   "cell_type": "markdown",
   "id": "8d3d93c1-d03c-4921-aa06-de6c50ff9d73",
   "metadata": {},
   "source": [
    "##### Finding the parameters of GMM for the given data "
   ]
  },
  {
   "cell_type": "code",
   "execution_count": 21,
   "id": "bd652151-2a1a-46b1-9f72-c4b28fac3013",
   "metadata": {},
   "outputs": [
    {
     "data": {
      "image/png": "[encoded data removed]",
      "text/plain": [
       "<Figure size 432x288 with 1 Axes>"
      ]
     },
     "metadata": {
      "needs_background": "light"
     },
     "output_type": "display_data"
    }
   ],
   "source": [
    "gmm_music = GMM(n_mixtures = n_mixtures_, covariance_type=covariance_type)\n",
    "\n",
    "gmm_music.initialize(mu_k_music[:], sigma_k_music[:])\n",
    "gmm_music.fit(music_feature)"
   ]
  },
  {
   "cell_type": "markdown",
   "id": "dbe0ae10-f679-4c6b-8108-fd862fe5ac68",
   "metadata": {},
   "source": [
    "##### Calculates mean and covariance from the KMeans parameters"
   ]
  },
  {
   "cell_type": "code",
   "execution_count": 22,
   "id": "f3b32bcf-f155-4202-aa88-5ebe437b831d",
   "metadata": {},
   "outputs": [],
   "source": [
    "mu_k = [k.centroid[0], k.centroid[1]]\n",
    "sigma_k = [np.cov(np.array(k.clusters[i]).T) for i in range(n_mixtures_)]\n",
    "\n",
    "if covariance_type == 'diag':\n",
    "    transform_to_diagonal_matrix(sigma_k)"
   ]
  },
  {
   "cell_type": "markdown",
   "id": "577f0c36-49a8-4a6e-800c-d7ed50144109",
   "metadata": {},
   "source": [
    "##### Finding the parameters of GMM for the given data "
   ]
  },
  {
   "cell_type": "code",
   "execution_count": 23,
   "id": "580b80c5-0836-46ce-9239-9fecef85ef83",
   "metadata": {},
   "outputs": [
    {
     "data": {
      "image/png": "[encoded data removed]",
      "text/plain": [
       "<Figure size 432x288 with 1 Axes>"
      ]
     },
     "metadata": {
      "needs_background": "light"
     },
     "output_type": "display_data"
    }
   ],
   "source": [
    "gmm_speech = GMM(n_mixtures = n_mixtures_, covariance_type=covariance_type)\n",
    "\n",
    "gmm_speech.initialize(mu_k[:], sigma_k[:])\n",
    "gmm_speech.fit(speech_feature)"
   ]
  },
  {
   "cell_type": "markdown",
   "id": "8b2b6e4b-826f-4bd9-80cf-bcab7cc0b12d",
   "metadata": {},
   "source": [
    "##### Calculates Misclassification Rate for the given data"
   ]
  },
  {
   "cell_type": "code",
   "execution_count": 24,
   "id": "a9ca019f-2524-428c-91f9-251201481dc4",
   "metadata": {},
   "outputs": [
    {
     "name": "stdout",
     "output_type": "stream",
     "text": [
      "Misclassification rate:  60.416666666666664 %\n"
     ]
    }
   ],
   "source": [
    "misclassification_rate(gmm_speech, gmm_music)"
   ]
  },
  {
   "cell_type": "markdown",
   "id": "6ab98ec4-7a89-4826-8f85-204b8856bcac",
   "metadata": {},
   "source": [
    "### Question 3) b) iii) \n",
    "\n",
    "##### Number of Mixtures = 5\n",
    "\n",
    "##### Covariance Matrix Type = Diagonal"
   ]
  },
  {
   "cell_type": "code",
   "execution_count": 25,
   "id": "64cf9c6a-caa9-4a53-b1b5-d6622d962de4",
   "metadata": {},
   "outputs": [],
   "source": [
    "n_mixtures_ = 5\n",
    "covariance_type = 'diag'"
   ]
  },
  {
   "cell_type": "markdown",
   "id": "dad78976-17fe-4c59-b526-4e2673683a8e",
   "metadata": {},
   "source": [
    "##### Performing KMeans clustering on Train Music feature data with 5 clusters"
   ]
  },
  {
   "cell_type": "code",
   "execution_count": 26,
   "id": "1d82f0a5-302c-4311-965b-9818da7a216e",
   "metadata": {},
   "outputs": [],
   "source": [
    "k = KMeans(n_clusters = n_mixtures_, max_iter = 10)\n",
    "\n",
    "k.fit(music_feature)"
   ]
  },
  {
   "cell_type": "markdown",
   "id": "d4e4956a-fc2d-4996-8cf4-af6eb85e14c6",
   "metadata": {},
   "source": [
    "##### Calculates mean and covariance from the KMeans parameters"
   ]
  },
  {
   "cell_type": "code",
   "execution_count": 27,
   "id": "39c306c9-34e8-4b24-8ed3-82c3193670ea",
   "metadata": {},
   "outputs": [],
   "source": [
    "mu_k_music = [k.centroid[i] for i in range(n_mixtures_)]\n",
    "sigma_k_music = [np.cov(np.array(k.clusters[i]).T) for i in range(n_mixtures_)]\n",
    "\n",
    "if covariance_type == 'diag':\n",
    "    transform_to_diagonal_matrix(sigma_k_music)"
   ]
  },
  {
   "cell_type": "markdown",
   "id": "8c95ec37-a89b-4d7c-8289-431b8c7fa9ee",
   "metadata": {},
   "source": [
    "##### Finding the parameters of GMM for the given data "
   ]
  },
  {
   "cell_type": "code",
   "execution_count": 28,
   "id": "0bcdba05-2253-491e-bfaa-6754aa413527",
   "metadata": {},
   "outputs": [
    {
     "data": {
      "image/png": "[encoded data removed]",
      "text/plain": [
       "<Figure size 432x288 with 1 Axes>"
      ]
     },
     "metadata": {
      "needs_background": "light"
     },
     "output_type": "display_data"
    }
   ],
   "source": [
    "gmm_music = GMM(n_mixtures = n_mixtures_, max_iter = 50, covariance_type=covariance_type)\n",
    "\n",
    "gmm_music.initialize(mu_k_music[:], sigma_k_music[:])\n",
    "gmm_music.fit(music_feature)"
   ]
  },
  {
   "cell_type": "markdown",
   "id": "374f973e-8389-4460-a463-d221758a57f7",
   "metadata": {},
   "source": [
    "##### Performing KMeans clustering on Train Speech feature data with 5 clusters"
   ]
  },
  {
   "cell_type": "code",
   "execution_count": 29,
   "id": "625fe1f7-59cc-47a1-945d-3ad25f14c87f",
   "metadata": {},
   "outputs": [],
   "source": [
    "k = KMeans(n_clusters = n_mixtures_, max_iter = 10)\n",
    "k.fit(speech_feature)"
   ]
  },
  {
   "cell_type": "markdown",
   "id": "35e52a78-500b-4fe1-8f54-5dfbfeabce9e",
   "metadata": {},
   "source": [
    "##### Calculates mean and covariance from the KMeans parameters"
   ]
  },
  {
   "cell_type": "code",
   "execution_count": 30,
   "id": "6ea2e5ea-da95-478d-a74f-d61ed7abc87b",
   "metadata": {},
   "outputs": [],
   "source": [
    "mu_k = [k.centroid[i] for i in range(n_mixtures_)]\n",
    "sigma_k = [np.cov(np.array(k.clusters[i]).T) for i in range(n_mixtures_)]\n",
    "\n",
    "if covariance_type == 'diag':\n",
    "    transform_to_diagonal_matrix(sigma_k)"
   ]
  },
  {
   "cell_type": "markdown",
   "id": "ea948125-38c5-4937-9a06-adea282d249b",
   "metadata": {},
   "source": [
    "##### Finding the parameters of GMM for the given data "
   ]
  },
  {
   "cell_type": "code",
   "execution_count": 31,
   "id": "882ecb6f-49e8-464a-b395-2eb8b5f8a985",
   "metadata": {},
   "outputs": [
    {
     "data": {
      "image/png": "[encoded data removed]",
      "text/plain": [
       "<Figure size 432x288 with 1 Axes>"
      ]
     },
     "metadata": {
      "needs_background": "light"
     },
     "output_type": "display_data"
    }
   ],
   "source": [
    "gmm_speech = GMM(n_mixtures = n_mixtures_, covariance_type=covariance_type)\n",
    "\n",
    "gmm_speech.initialize(mu_k[:], sigma_k[:])\n",
    "gmm_speech.fit(speech_feature)"
   ]
  },
  {
   "cell_type": "markdown",
   "id": "bf06ce95-e3d8-47db-8ad1-9a45dd9ca0ae",
   "metadata": {},
   "source": [
    "##### Calculates Misclassification Rate for the given data"
   ]
  },
  {
   "cell_type": "code",
   "execution_count": 32,
   "id": "f86833b1-abc8-4550-b7a6-d51c783be12e",
   "metadata": {},
   "outputs": [
    {
     "name": "stdout",
     "output_type": "stream",
     "text": [
      "Misclassification rate:  16.666666666666664 %\n"
     ]
    }
   ],
   "source": [
    "misclassification_rate(gmm_speech, gmm_music)"
   ]
  },
  {
   "cell_type": "markdown",
   "id": "6dece1b9-56f6-4b3c-87fd-c04c7b9e8171",
   "metadata": {},
   "source": [
    "### Question 3) b) iii) \n",
    "\n",
    "##### Number of Mixtures = 5\n",
    "\n",
    "##### Covariance Matrix Type = Full"
   ]
  },
  {
   "cell_type": "code",
   "execution_count": 33,
   "id": "0ea2dcc6-0e93-4dbe-85e0-0508f295661a",
   "metadata": {},
   "outputs": [],
   "source": [
    "n_mixtures_ = 5\n",
    "covariance_type = 'full'"
   ]
  },
  {
   "cell_type": "markdown",
   "id": "72ad437a-d106-429a-817d-f1c84a162191",
   "metadata": {},
   "source": [
    "##### Calculates mean and covariance from the KMeans parameters"
   ]
  },
  {
   "cell_type": "code",
   "execution_count": 34,
   "id": "735eb5a6-639e-4440-90bc-787718e916a2",
   "metadata": {},
   "outputs": [],
   "source": [
    "mu_k_music = [k.centroid[i] for i in range(n_mixtures_)]\n",
    "sigma_k_music = [np.cov(np.array(k.clusters[i]).T) for i in range(n_mixtures_)]\n",
    "\n",
    "if covariance_type == 'diag':\n",
    "    transform_to_diagonal_matrix(sigma_k_music)"
   ]
  },
  {
   "cell_type": "markdown",
   "id": "4e930150-f014-4f98-b1ea-eaf399758e3a",
   "metadata": {},
   "source": [
    "##### Finding the parameters of GMM for the given data "
   ]
  },
  {
   "cell_type": "code",
   "execution_count": 35,
   "id": "3ce6362e-5bd1-41eb-8773-22e4cb895f7f",
   "metadata": {},
   "outputs": [
    {
     "data": {
      "image/png": "[encoded data removed]",
      "text/plain": [
       "<Figure size 432x288 with 1 Axes>"
      ]
     },
     "metadata": {
      "needs_background": "light"
     },
     "output_type": "display_data"
    }
   ],
   "source": [
    "gmm_music = GMM(n_mixtures = n_mixtures_, covariance_type=covariance_type)\n",
    "\n",
    "gmm_music.initialize(mu_k_music[:], sigma_k_music[:])\n",
    "gmm_music.fit(music_feature)"
   ]
  },
  {
   "cell_type": "markdown",
   "id": "eecaf36b-095c-4bc7-a98d-633a5042eb7d",
   "metadata": {},
   "source": [
    "##### Calculates mean and covariance from the KMeans parameters"
   ]
  },
  {
   "cell_type": "code",
   "execution_count": 36,
   "id": "c54db906-721e-4d4f-9d4f-9bdb12ac68c5",
   "metadata": {},
   "outputs": [],
   "source": [
    "mu_k = [k.centroid[i] for i in range(n_mixtures_)]\n",
    "sigma_k = [np.cov(np.array(k.clusters[i]).T) for i in range(n_mixtures_)]\n",
    "\n",
    "if covariance_type == 'diag':\n",
    "    transform_to_diagonal_matrix(sigma_k)"
   ]
  },
  {
   "cell_type": "markdown",
   "id": "ef582da2-839f-4c47-b8ab-293d04dada2a",
   "metadata": {},
   "source": [
    "##### Finding the parameters of GMM for the given data "
   ]
  },
  {
   "cell_type": "code",
   "execution_count": 37,
   "id": "884500c0-2d09-442e-88fb-1e0ed5f2dd28",
   "metadata": {},
   "outputs": [
    {
     "data": {
      "image/png": "[encoded data removed]",
      "text/plain": [
       "<Figure size 432x288 with 1 Axes>"
      ]
     },
     "metadata": {
      "needs_background": "light"
     },
     "output_type": "display_data"
    }
   ],
   "source": [
    "gmm_speech = GMM(n_mixtures = n_mixtures_, covariance_type=covariance_type)\n",
    "\n",
    "gmm_speech.initialize(mu_k[:], sigma_k[:])\n",
    "gmm_speech.fit(speech_feature)"
   ]
  },
  {
   "cell_type": "markdown",
   "id": "7ddaa48b-4bbe-4734-8d60-11d2fd120cfb",
   "metadata": {},
   "source": [
    "##### Calculates Misclassification Rate for the given data"
   ]
  },
  {
   "cell_type": "code",
   "execution_count": 38,
   "id": "692b164e-6efd-406b-85f6-ae2b5aa8d74a",
   "metadata": {},
   "outputs": [
    {
     "name": "stdout",
     "output_type": "stream",
     "text": [
      "Misclassification rate  41.666666666666667 %\n"
     ]
    }
   ],
   "source": [
    "misclassification_rate(gmm_speech, gmm_music)"
   ]
  },
  {
   "cell_type": "markdown",
   "id": "c58499ba-f5d9-4838-90d3-c2d2da758c74",
   "metadata": {},
   "source": [
    "### Question 3) c)\n",
    "\n",
    "![alt text](speech.png \"Error Rate\")"
   ]
  },
  {
   "cell_type": "markdown",
   "id": "05b72c92-728b-4c1d-bf0b-1d3dd1c17594",
   "metadata": {},
   "source": [
    "### Question 3) d)\n",
    "\n",
    "From the results obtained, it is clear that, 5 mixture component based GMM models perform better than their corresponding 2 mixture component based GMM models.\n",
    "\n",
    "##### Conclusion: \n",
    "For the given problem, Increase in Number of Mixtures, Decrease in Error Rate\n",
    "\n",
    "From the results obtained, it is clear that, diagonal covariance based GMM models perform better than their corresponding full coviariance based GMM models.\n",
    "\n",
    "##### Conclusion: \n",
    "For the given problem, Diagonal covariance GMMs perform better than Full covariance GMMs"
   ]
  }
 ],
 "metadata": {
  "kernelspec": {
   "display_name": "Python 3 (ipykernel)",
   "language": "python",
   "name": "python3"
  },
  "language_info": {
   "codemirror_mode": {
    "name": "ipython",
    "version": 3
   },
   "file_extension": ".py",
   "mimetype": "text/x-python",
   "name": "python",
   "nbconvert_exporter": "python",
   "pygments_lexer": "ipython3",
   "version": "3.9.10"
  }
 },
 "nbformat": 4,
 "nbformat_minor": 5
}
