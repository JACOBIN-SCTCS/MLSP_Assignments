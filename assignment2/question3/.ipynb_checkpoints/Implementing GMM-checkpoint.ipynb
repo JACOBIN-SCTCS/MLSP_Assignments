{
 "cells": [
  {
   "cell_type": "code",
   "execution_count": 1,
   "id": "52ef5884",
   "metadata": {},
   "outputs": [],
   "source": [
    "import numpy as np\n",
    "from scipy.io import wavfile\n",
    "import scipy.io\n",
    "from scipy.stats import multivariate_normal\n",
    "import matplotlib.pyplot as plt\n",
    "import  os\n",
    "import math\n",
    "import random"
   ]
  },
  {
   "cell_type": "markdown",
   "id": "9e987db5",
   "metadata": {},
   "source": [
    "## Computing Spectrograms of the audio files\n",
    "\n",
    "#### Observations from analysis of audio files\n",
    "\n",
    "- All the music files had a sampling frequency of 16K samples per second\n",
    "- The total number of samples in each audio files was common for all (480000 samples)\n",
    "\n",
    "Number of samples in 1s = 16K \n",
    "\n",
    "Number of samples in 25ms = $16K * 0.025$ = $400$ samples\n",
    "\n",
    "The shift between successive windows  = $10ms$\n",
    "\n",
    "Number of samples to shift moving from one window to next = $16K * 0.010$ = 160 samples\n",
    "\n",
    "\n",
    "#### Number of windows  \n",
    "\n",
    "Without adding any amounts of padding at the end so the left end of the window should move only upto $480000-400 = 479600$\n",
    "\n",
    "We will be shifting by 160 samples each time.\n",
    "\n",
    "The total number of windows/frames = $\\frac{479600}{160} = 2997.5 = (approx) 2998$"
   ]
  },
  {
   "cell_type": "code",
   "execution_count": 2,
   "id": "a13aeed3",
   "metadata": {
    "scrolled": false
   },
   "outputs": [],
   "source": [
    "class Spectrogram:    \n",
    "    def __init__(self,folder_path=None):\n",
    "        self.name=folder_path\n",
    "        self.num_frames = None\n",
    "        self.data_matrix = None\n",
    "    \n",
    "    \n",
    "    #Plots the time series graph for a particular audio file\n",
    "    def plot_time_series_graph(self,wav_file):\n",
    "        time = np.linspace(0,length,wav_file.shape[0])\n",
    "        plt.plot(time, wav_file, label=\"channel\")\n",
    "        plt.xlabel(\"time (s)\")\n",
    "        plt.ylabel(\"Amplitude\")\n",
    "        plt.show()\n",
    "    \n",
    "    # Computing the number of frames in the spectrogram\n",
    "    def compute_num_frames(self,audiofile):\n",
    "        starting=0\n",
    "        increment = 160\n",
    "        window_size = 400\n",
    "        self.num_frames = 0\n",
    "        while(starting+window_size <= len(audiofile)):\n",
    "            self.num_frames+=1\n",
    "            starting += increment \n",
    "            \n",
    "    # Compute the spectrogram from the data \n",
    "    def compute_spectrogram(self,audiofile):\n",
    "        \n",
    "        starting = 0\n",
    "        increment = 160\n",
    "        window_size = 400\n",
    "        \n",
    "        if(self.num_frames is None):\n",
    "            self.compute_num_frames(audiofile)\n",
    "        spectrogram = None\n",
    "        while(starting+window_size < len(audiofile)):\n",
    "            current_window = np.array(audiofile[starting : starting + window_size])\n",
    "            #Perform the required transformation\n",
    "            fft_transform = np.log(np.abs(np.fft.fft(current_window,n=64)[:32].reshape(32,1))+1e-10)\n",
    "            if spectrogram is None:\n",
    "                spectrogram = fft_transform\n",
    "            else:\n",
    "                spectrogram = np.append(spectrogram,fft_transform,axis = 0)\n",
    "            starting += increment\n",
    "        return spectrogram\n",
    "    \n",
    "    # Preparing the Data Matrix for training the size of dataset would be 32 * (Total frames taken from all audio)\n",
    "    def compute_data_matrix(self):\n",
    "        \n",
    "        for file in os.listdir(self.name):\n",
    "            sample_rate, wav_file = wavfile.read(self.name+\"/\"+file)\n",
    "            spectrogram = self.compute_spectrogram(wav_file).reshape((32,-1))\n",
    "            if( self.data_matrix is None):\n",
    "                self.data_matrix = spectrogram\n",
    "            else:\n",
    "                self.data_matrix = np.append(self.data_matrix,spectrogram,axis=1)\n",
    "            \n",
    "        #self.plot_spectrogram(spectrogram)\n",
    "        #print(self.original_data_matrix.shape)\n",
    "        \n",
    "    # Plot the spectrogram given    \n",
    "    def plot_spectrogram(self,spectrogram):\n",
    "        time = np.linspace(0,self.num_frames,num=self.num_frames)\n",
    "        freq = np.linspace(0,32,32)\n",
    "        plt.pcolormesh(time,freq,spectrogram)\n",
    "        plt.xlabel(\"Time\")\n",
    "        plt.ylabel(\"Frequency\")\n",
    "        plt.show()"
   ]
  },
  {
   "cell_type": "markdown",
   "id": "1ec88e58",
   "metadata": {},
   "source": [
    "## KMeans Clustering for finding Initial Data centers"
   ]
  },
  {
   "cell_type": "code",
   "execution_count": 3,
   "id": "88ade35b",
   "metadata": {},
   "outputs": [],
   "source": [
    "# Helper class for KMeans clustering Algorithm\n",
    "# Reference : https://pythonprogramming.net/k-means-from-scratch-machine-learning-tutorial/\n",
    "\n",
    "class KMeans:\n",
    "    \n",
    "    def __init__(self,k,data_matrix,max_iter=10, remove_non_diagonal=False):\n",
    "        self.k = k\n",
    "        self.n = data_matrix.shape[0]\n",
    "        self.data_matrix = data_matrix\n",
    "        self.max_iter = max_iter\n",
    "        self.remove_non_diagonal = remove_non_diagonal\n",
    "        self.centers = {}\n",
    "        self.covs = {}\n",
    "        self.labels = {}\n",
    "     \n",
    "    # Compute the cluster centers accoring to the KMeans Algorithm\n",
    "    def compute_means(self): \n",
    "        for i in range(self.k):\n",
    "            self.centers[i] = self.data_matrix[i]\n",
    "            \n",
    "        for i in range(self.max_iter):\n",
    "            for j in range(self.k):\n",
    "                self.labels[j] = [] \n",
    "            for p in range(len(self.data_matrix)):\n",
    "                current_point = self.data_matrix[p]\n",
    "                \n",
    "                # Get the label of the cluster to which the point belongs\n",
    "                label = np.argmin(np.array([np.linalg.norm(current_point-self.centers[c]) for c in range(self.k)]))\n",
    "                self.labels[label].append(self.data_matrix[p])\n",
    "            \n",
    "            \n",
    "            # Compute the new centers by taking the mean out of all points assigned to a cluster\n",
    "            new_centers = {}\n",
    "            for j in range(self.k):  \n",
    "                mean_vector = np.mean(np.array(self.labels[j]),axis=0)\n",
    "                new_centers[j] = mean_vector\n",
    "            self.centers = new_centers\n",
    "    \n",
    "    # Compute the covariance of data points\n",
    "    # present in each cluster\n",
    "    # after finding the cluster centers\n",
    "    \n",
    "    def compute_covariance(self):\n",
    "        for i in range(self.k):\n",
    "            new_covs = np.cov(np.array(self.labels[i]).transpose())\n",
    "            \n",
    "            # Remove Non Diagonal entries if needed\n",
    "            if(self.remove_non_diagonal):\n",
    "                diagonal_elements =new_covs.diagonal()\n",
    "                new_covariance_matrix = np.eye(new_covs[i].shape[0])\n",
    "                for j in range(self.k):\n",
    "                    new_covariance_matrix[j][j] = diagonal_elements[j]\n",
    "                new_covs= new_covariance_matrix\n",
    "            self.covs[i] = new_covs\n",
    "        \n",
    "\n",
    "        "
   ]
  },
  {
   "cell_type": "markdown",
   "id": "826533ff",
   "metadata": {},
   "source": [
    "# Class for training the GMM Model\n",
    "\n",
    "In a GMM Model we are interested in the probability\n",
    "\n",
    "$P(X_{i}|\\Theta) = \\sum_{k=1}^{K}\\alpha_{k}\\mathbb{N}(X_i|\\Theta_k)$\n",
    "\n",
    "The parameters $\\alpha$ and $\\mu_k$ ,$\\Sigma_k$ is determined by using the EM Algorithm\n",
    "where in the E step we determine\n",
    "\n",
    "$p(Z_{i}=l|  X_i , \\Theta_n) = \\frac{\\alpha_{l}\\mathbb{N}(X_i|Z_i=l,\\Theta_n)}{\\sum_{k=1}^{K}\\alpha_{k}\\mathbb{N}(X_i|Z_i=l,\\Theta_n)}$\n",
    "\n",
    "where we assign soft values of memebership of data point to a cluster\n",
    "\n",
    "The M step the parameters are updated such that\n",
    "\n",
    "$\\alpha_{new}^{l} = \\frac{1}{N}\\sum_{N}^{n=1}P(Z_i=l|X_i,\\Theta_n) $\n",
    "\n",
    "$\\mu_{l}^{new} = \\frac{\\sum_{N}^{n=1}X_{i}P(Z_i=l|X_i,\\Theta_n)}{\\sum_{N}^{n=1}P(Z_i=l|X_i,\\Theta_n) }$\n",
    "\n",
    "$\\mu_{l}^{new} = \\frac{\\sum_{N}^{n=1}P(Z_i=l|X_i,\\Theta_n)(X_{i}-\\mu_{l}^{new})(X_{i}-\\mu_{l}^{new})^T}{\\sum_{N}^{n=1}P(Z_i=l|X_i,\\Theta_n) }$\n",
    "\n",
    "Here the initial values of the mean and covariances are determined using KMeans Algorithm\n",
    "\n",
    "alpha is taken to be 1/K where K is the number of mixture components\n"
   ]
  },
  {
   "cell_type": "code",
   "execution_count": 4,
   "id": "d65561a9",
   "metadata": {},
   "outputs": [],
   "source": [
    "class GMM:\n",
    "    \n",
    "    def __init__(self,K,data,skip_non_diagonal_entries=False,iterations=10):\n",
    "        self.K = K\n",
    "        self.means = None\n",
    "        self.covs = None\n",
    "        self.alpha = {}\n",
    "        for i in range(self.K):\n",
    "            self.alpha[i] = 1.0/K\n",
    "        \n",
    "        self.clip_nondiag_cov = skip_non_diagonal_entries\n",
    "        self.data = data\n",
    "        self.num_iterations = iterations\n",
    "        self.likelihoods = None\n",
    "        self.plot_points = []\n",
    "    \n",
    "    #Initialize the mean covariance matrices of the clusters\n",
    "    def initialize(self,centers,cov_matrix):\n",
    "        self.means = centers\n",
    "        self.covs = cov_matrix\n",
    "    \n",
    "    # Computing the posterior probability of belonging to a cluster given a datapoint\n",
    "    # and model parameters\n",
    "    def compute_posterior(self,X):\n",
    "        \n",
    "        probability = np.zeros((X.shape[0],self.K))\n",
    "        \n",
    "        # Denominator term\n",
    "        for i in range(self.K):\n",
    "            normal_fn = multivariate_normal(mean=self.means[i],cov=self.covs[i])\n",
    "            for j in range(X.shape[0]):\n",
    "                pdf_value = normal_fn.pdf(X[j])\n",
    "                probability[j][i] = pdf_value* self.alpha[i]\n",
    "    \n",
    "        denominator = np.sum(probability,axis=1)\n",
    "        \n",
    "        # Computing the posterior probability\n",
    "        for i in range(X.shape[0]):\n",
    "            probability[i] = probability[i]/denominator[i]\n",
    "        \n",
    "        return probability\n",
    "    \n",
    "    # Computing the Log Likelihood \n",
    "    def compute_total_likelihood(self,X):\n",
    "        probability = np.zeros((X.shape[0],self.K))\n",
    "        for i in range(self.K):\n",
    "            normal_fn = multivariate_normal(mean=self.means[i],cov=self.covs[i])\n",
    "            for j in range(X.shape[0]):\n",
    "                pdf_value = normal_fn.pdf(X[j])\n",
    "                probability[j][i] = pdf_value* self.alpha[i]\n",
    "        \n",
    "        denominator = np.sum(probability,axis=1)\n",
    "        for i in range(X.shape[0]):\n",
    "            probability[i] = probability[i]/denominator[i]\n",
    "        \n",
    "        for i in range(X.shape[0]):\n",
    "            for j in range(self.K):\n",
    "                probability[i][j] = probability[i][j]*self.alpha[j]\n",
    "        \n",
    "        summation_on_mixture = np.log(np.sum(probability,axis=1))\n",
    "        likelihood= np.sum(summation_on_mixture,axis=0)\n",
    "        return likelihood \n",
    "    \n",
    "    # Expectation step in EM Algorithm\n",
    "    def E_step(self):\n",
    "        self.likelihoods = self.compute_posterior(self.data)\n",
    "    \n",
    "    # Update step in EM Algorithm\n",
    "    def M_step(self):\n",
    "        \n",
    "        # Compute the new values of weights assigned for each gaussian\n",
    "        new_alpha = {}\n",
    "        mean_alpha = np.mean(self.likelihoods,axis=0)\n",
    "        for i in range(self.K):\n",
    "            new_alpha[i] = mean_alpha[i]\n",
    "        \n",
    "        \n",
    "        denominator = np.sum(self.likelihoods,axis=0)\n",
    "        \n",
    "        # Compute the new mean vectors for the next iteration\n",
    "        new_centers= {}\n",
    "        # computing the terms in the numerator\n",
    "        for i in range(self.K):\n",
    "            logits = self.likelihoods[:,i]\n",
    "            sum_vector = None\n",
    "            for j in range(self.data.shape[0]):\n",
    "                if sum_vector is None:\n",
    "                    sum_vector = logits[j]*self.data[j]\n",
    "                else:\n",
    "                    sum_vector += logits[j]* self.data[j]\n",
    "            \n",
    "            new_centers[i]=sum_vector\n",
    "        for i in range(self.K):\n",
    "            new_centers[i] = new_centers[i]/denominator[i]\n",
    "        \n",
    "        \n",
    "        # Compute the new covariance matrix for the next iteration\n",
    "    \n",
    "        new_covs = {}\n",
    "        # computing the terms in the numerator\n",
    "        for i in range(self.K):\n",
    "            logits = self.likelihoods[:,i]\n",
    "            sum_matrix = None\n",
    "            for j in range(self.data.shape[0]):\n",
    "                if sum_matrix is None:\n",
    "                    vec = (self.data[j]-new_centers[i]).reshape((-1,1))\n",
    "                    sum_matrix = logits[j]*(np.matmul(vec,np.transpose(vec)))\n",
    "                else:\n",
    "                    sum_matrix += logits[j]*(np.matmul(np.transpose(vec),vec))\n",
    "            \n",
    "            new_covs[i]=sum_matrix\n",
    "        \n",
    "        for i in range(self.K):\n",
    "            new_covs[i] = new_covs[i]/denominator[i]\n",
    "            # Stripping of Non Diagonal Entries\n",
    "            if(self.clip_nondiag_cov):\n",
    "                diagonal_elements =new_covs[i].diagonal()\n",
    "                new_covariance_matrix = np.eye(new_covs[i].shape[0])\n",
    "                for j in range(self.K):\n",
    "                    new_covariance_matrix[j][j] = diagonal_elements[j]\n",
    "                new_covs[i]= new_covariance_matrix\n",
    "            \n",
    "            if(np.linalg.matrix_rank(new_covs[i])!= 32):\n",
    "                while(np.linalg.matrix_rank(new_covs[i])!= 32):\n",
    "                    new_covs[i] = new_covs[i] + np.eye(32)*1\n",
    "        \n",
    "        # Update for next iteration\n",
    "        self.alpha = new_alpha\n",
    "        self.centers= new_centers\n",
    "        self.covs = new_covs\n",
    "    \n",
    "    # The training Loop in the EM Algorithm\n",
    "    def train(self):\n",
    "        print(\"GMM Training\")\n",
    "        for iter in range(1,self.num_iterations+1):\n",
    "            \n",
    "            loglikelihoods_value = self.compute_total_likelihood(self.data)\n",
    "            print(\"Iteration\" + str(iter) +\"  \"+ str(loglikelihoods_value))\n",
    "            self.plot_points.append(loglikelihoods_value)\n",
    "            self.E_step()\n",
    "            self.M_step()\n",
    "    \n",
    "    # Plotting the log likelihood as a function of EM Algorithm Iteration\n",
    "    def likelihood_fn(self):\n",
    "        plt.xlabel(\"Iterations count\")\n",
    "        plt.ylabel(\"Log Likelihood\")\n",
    "        for i in range(len(self.plot_points)):\n",
    "            plt.scatter(i,self.plot_points[i],c='r')\n",
    "        plt.show()\n",
    "                \n"
   ]
  },
  {
   "cell_type": "markdown",
   "id": "7f8879f7",
   "metadata": {},
   "source": [
    "## Preparing the Datasets for Training and Testing"
   ]
  },
  {
   "cell_type": "code",
   "execution_count": 5,
   "id": "9e6cd694",
   "metadata": {},
   "outputs": [],
   "source": [
    "# Prepare the datasets\n",
    "speech_train = Spectrogram(\"speech_music_classification/train/speech\")\n",
    "music_train = Spectrogram(\"speech_music_classification/train/music\")\n",
    "\n",
    "speech_train.compute_data_matrix()\n",
    "music_train.compute_data_matrix()"
   ]
  },
  {
   "cell_type": "code",
   "execution_count": 6,
   "id": "432f93b5",
   "metadata": {},
   "outputs": [],
   "source": [
    "speech_test = Spectrogram(\"speech_music_classification/train/speech\")\n",
    "music_test = Spectrogram(\"speech_music_classification/train/music\")"
   ]
  },
  {
   "cell_type": "code",
   "execution_count": 7,
   "id": "a96e0d58",
   "metadata": {},
   "outputs": [],
   "source": [
    "# Helper function for checking accuracy\n",
    "def accuracy_test(gmm_speech,gmm_music,dataset_type='speech'):\n",
    "    \n",
    "    directory = 'speech_music_classification/test'\n",
    "    accuracy = 0\n",
    "    total = 0\n",
    "    spectrogram_class = Spectrogram()\n",
    "    for file in os.listdir(directory):\n",
    "        \n",
    "        true_label = 0 if dataset_type in file else 1\n",
    "        total+=1\n",
    "        sample_rate, wav_file = wavfile.read(directory+\"/\"+file)\n",
    "        spectrogram = spectrogram_class.compute_spectrogram(wav_file).reshape((32,-1))\n",
    "        \n",
    "        # Compute probability \n",
    "        prob1 = gmm_speech.compute_posterior(spectrogram.transpose())\n",
    "        prob2 = gmm_music.compute_posterior(spectrogram.transpose())\n",
    "         \n",
    "        # Holds the probability of each frame being belonging to a class\n",
    "        prob1_average = np.zeros((prob1.shape[0],1))\n",
    "        prob2_average = np.zeros((prob2.shape[0],1))\n",
    "        \n",
    "        for i in range(prob2.shape[0]):\n",
    "            prob_speech = 0\n",
    "            prob_music = 0 \n",
    "            for j in range(gmm_speech.K):\n",
    "                prob_speech = prob_speech + prob1[i][j]*gmm_speech.alpha[j]\n",
    "                prob_music = prob_music + prob2[i][j]*gmm_music.alpha[j]\n",
    "            prob1_average[i] = prob_speech\n",
    "            prob2_average[i] = prob_music\n",
    "         \n",
    "        # Average over the probabilities of all the frames in audio file\n",
    "        prob_speech = np.mean(prob1_average,axis=0)\n",
    "        prob_music = np.mean(prob2_average,axis=0)\n",
    "         \n",
    "        # Assigning to the argmax the predicted label\n",
    "        predicted_class = 0 if prob_speech >= prob_music else 1\n",
    "        if(predicted_class == true_label):\n",
    "            accuracy+=1\n",
    "    \n",
    "    print(\"Correctly classified = \" + str(accuracy))\n",
    "    print(\"Total files = \" + str(total))\n",
    "    accuracy = float(accuracy)/total\n",
    "    print(\"Accuracy of the GMM Predictions on test data = \" + str(accuracy*100))                    \n",
    "    "
   ]
  },
  {
   "cell_type": "code",
   "execution_count": 8,
   "id": "45c958f9",
   "metadata": {},
   "outputs": [],
   "source": [
    "# Setting the parameters for Iteration count\n",
    "kmeans_iteration_limit = 6\n",
    "gmm_iteration_count = 15"
   ]
  },
  {
   "cell_type": "markdown",
   "id": "b49beb74",
   "metadata": {},
   "source": [
    "# 2 Mixture Gaussian Diagonal Covariance"
   ]
  },
  {
   "cell_type": "code",
   "execution_count": 9,
   "id": "d528ed41",
   "metadata": {},
   "outputs": [],
   "source": [
    "k_i_speech = KMeans(2,speech_train.data_matrix.transpose(),kmeans_iteration_limit,remove_non_diagonal=True)\n",
    "k_i_speech.compute_means()\n",
    "k_i_speech.compute_covariance()\n"
   ]
  },
  {
   "cell_type": "code",
   "execution_count": 10,
   "id": "34dc85f6",
   "metadata": {},
   "outputs": [
    {
     "name": "stdout",
     "output_type": "stream",
     "text": [
      "GMM Training\n",
      "Iteration1  -83122.20989274865\n",
      "Iteration2  -83106.11487290719\n",
      "Iteration3  -83095.72079375514\n",
      "Iteration4  -83094.90861610003\n",
      "Iteration5  -83094.83429937912\n",
      "Iteration6  -83094.82663973875\n",
      "Iteration7  -83094.82583955045\n",
      "Iteration8  -83094.82575583678\n",
      "Iteration9  -83094.8257470775\n",
      "Iteration10  -83094.82574616118\n",
      "Iteration11  -83094.82574606537\n",
      "Iteration12  -83094.82574605512\n",
      "Iteration13  -83094.82574605382\n",
      "Iteration14  -83094.82574605383\n",
      "Iteration15  -83094.8257460538\n"
     ]
    },
    {
     "data": {
      "image/png": "[encoded data removed]",
      "text/plain": [
       "<Figure size 432x288 with 1 Axes>"
      ]
     },
     "metadata": {
      "needs_background": "light"
     },
     "output_type": "display_data"
    }
   ],
   "source": [
    "gmm_i_speech = GMM(2,speech_train.data_matrix.transpose(),True,gmm_iteration_count)\n",
    "gmm_i_speech.initialize(k_i_speech.centers,k_i_speech.covs)\n",
    "gmm_i_speech.train()\n",
    "gmm_i_speech.likelihood_fn()"
   ]
  },
  {
   "cell_type": "code",
   "execution_count": 11,
   "id": "f5b66d07",
   "metadata": {},
   "outputs": [],
   "source": [
    "k_i_music = KMeans(2,music_train.data_matrix.transpose(),kmeans_iteration_limit,remove_non_diagonal=True)\n",
    "k_i_music.compute_means()\n",
    "k_i_music.compute_covariance()\n"
   ]
  },
  {
   "cell_type": "code",
   "execution_count": 12,
   "id": "02637762",
   "metadata": {},
   "outputs": [
    {
     "name": "stdout",
     "output_type": "stream",
     "text": [
      "GMM Training\n",
      "Iteration1  -83122.20989274865\n",
      "Iteration2  -82803.26901465219\n",
      "Iteration3  -82805.32534540647\n",
      "Iteration4  -82805.37531846325\n",
      "Iteration5  -82805.38000960398\n",
      "Iteration6  -82805.38045386915\n",
      "Iteration7  -82805.38049593879\n",
      "Iteration8  -82805.38049992235\n",
      "Iteration9  -82805.38050029961\n",
      "Iteration10  -82805.38050033535\n",
      "Iteration11  -82805.38050033864\n",
      "Iteration12  -82805.38050033872\n",
      "Iteration13  -82805.38050033874\n",
      "Iteration14  -82805.38050033877\n",
      "Iteration15  -82805.3805003388\n"
     ]
    },
    {
     "data": {
      "image/png": "[encoded data removed]",
      "text/plain": [
       "<Figure size 432x288 with 1 Axes>"
      ]
     },
     "metadata": {
      "needs_background": "light"
     },
     "output_type": "display_data"
    }
   ],
   "source": [
    "gmm_i_music = GMM(2,music_train.data_matrix.transpose(),True,gmm_iteration_count)\n",
    "gmm_i_music.initialize(k_i_music.centers,k_i_music.covs)\n",
    "gmm_i_music.train()\n",
    "gmm_i_music.likelihood_fn()"
   ]
  },
  {
   "cell_type": "code",
   "execution_count": 18,
   "id": "1d569d50",
   "metadata": {},
   "outputs": [
    {
     "name": "stdout",
     "output_type": "stream",
     "text": [
      "music\n"
     ]
    },
    {
     "name": "stderr",
     "output_type": "stream",
     "text": [
      "/var/folders/sm/_xvm618541nc11hb7mv_kpj40000gn/T/ipykernel_48891/2650493062.py:39: RuntimeWarning: invalid value encountered in true_divide\n",
      "  probability[i] = probability[i]/denominator[i]\n"
     ]
    }
   ],
   "source": [
    "def perform_inference(wav_file,gmm_speech,gmm_music):\n",
    "    sample_rate, wav_file = wavfile.read(wav_file)\n",
    "    spectrogram_class = Spectrogram()\n",
    "    spectrogram = spectrogram_class.compute_spectrogram(wav_file).reshape((32,-1))\n",
    "        \n",
    "    \n",
    "    prob1 = gmm_speech.compute_posterior(spectrogram.transpose())\n",
    "    prob2 = gmm_music.compute_posterior(spectrogram.transpose())\n",
    "         \n",
    "        \n",
    "    prob1_average = np.zeros((prob1.shape[0],1))\n",
    "    prob2_average = np.zeros((prob2.shape[0],1))\n",
    "        \n",
    "    for i in range(prob2.shape[0]):\n",
    "        prob_speech = 0\n",
    "        prob_music = 0 \n",
    "        for j in range(gmm_speech.K):\n",
    "            prob_speech = prob_speech + prob1[i][j]*gmm_speech.alpha[j]\n",
    "            prob_music = prob_music + prob2[i][j]*gmm_music.alpha[j]\n",
    "        prob1_average[i] = prob_speech\n",
    "        prob2_average[i] = prob_music\n",
    "         \n",
    "        # Average over the probabilities of all the frames in audio file\n",
    "    prob_speech = np.mean(prob1_average,axis=0)\n",
    "    prob_music = np.mean(prob2_average,axis=0)\n",
    "         \n",
    "        # Assigning to the argmax the predicted label\n",
    "    predicted_class = 0 if prob_speech >= prob_music else 1\n",
    "    if(predicted_class==0):\n",
    "        print(\"Speech\")\n",
    "    else:\n",
    "        print(\"music\")\n",
    "perform_inference(\"test.wav\",gmm_i_speech,gmm_i_music)"
   ]
  },
  {
   "cell_type": "code",
   "execution_count": 13,
   "id": "f6eb0554",
   "metadata": {},
   "outputs": [
    {
     "name": "stdout",
     "output_type": "stream",
     "text": [
      "Correctly classified = 40\n",
      "Total files = 48\n",
      "Accuracy of the GMM Predictions on test data = 83.33333333333334\n"
     ]
    }
   ],
   "source": [
    "accuracy_test(gmm_i_speech,gmm_i_music)"
   ]
  },
  {
   "cell_type": "markdown",
   "id": "c998c090",
   "metadata": {},
   "source": [
    "# 2 mixture Gaussian Full Covariance"
   ]
  },
  {
   "cell_type": "code",
   "execution_count": 14,
   "id": "34372f36",
   "metadata": {},
   "outputs": [],
   "source": [
    "k_ii_speech = KMeans(2,speech_train.data_matrix.transpose(),kmeans_iteration_limit,remove_non_diagonal=False)\n",
    "k_ii_speech.compute_means()\n",
    "k_ii_speech.compute_covariance()\n"
   ]
  },
  {
   "cell_type": "code",
   "execution_count": 15,
   "id": "551137ba",
   "metadata": {},
   "outputs": [
    {
     "name": "stdout",
     "output_type": "stream",
     "text": [
      "GMM Training\n",
      "Iteration1  -83122.20989274865\n",
      "Iteration2  -83120.99862376199\n",
      "Iteration3  -83120.36364427106\n",
      "Iteration4  -83120.26652164238\n",
      "Iteration5  -83120.25933612559\n",
      "Iteration6  -83120.25869087211\n",
      "Iteration7  -83120.25863161906\n",
      "Iteration8  -83120.25862616638\n",
      "Iteration9  -83120.25862566443\n",
      "Iteration10  -83120.25862561827\n",
      "Iteration11  -83120.25862561405\n",
      "Iteration12  -83120.25862561371\n",
      "Iteration13  -83120.25862561355\n",
      "Iteration14  -83120.25862561351\n",
      "Iteration15  -83120.25862561355\n"
     ]
    },
    {
     "data": {
      "image/png": "[encoded data removed]",
      "text/plain": [
       "<Figure size 432x288 with 1 Axes>"
      ]
     },
     "metadata": {
      "needs_background": "light"
     },
     "output_type": "display_data"
    }
   ],
   "source": [
    "gmm_ii_speech = GMM(2,speech_train.data_matrix.transpose(),False,gmm_iteration_count)\n",
    "gmm_ii_speech.initialize(k_ii_speech.centers,k_ii_speech.covs)\n",
    "gmm_ii_speech.train()\n",
    "gmm_ii_speech.likelihood_fn()"
   ]
  },
  {
   "cell_type": "code",
   "execution_count": 16,
   "id": "f8f2f27c",
   "metadata": {},
   "outputs": [],
   "source": [
    "k_ii_music = KMeans(2,music_train.data_matrix.transpose(),kmeans_iteration_limit,remove_non_diagonal=False)\n",
    "k_ii_music.compute_means()\n",
    "k_ii_music.compute_covariance()\n"
   ]
  },
  {
   "cell_type": "code",
   "execution_count": 17,
   "id": "22168cf5",
   "metadata": {},
   "outputs": [
    {
     "name": "stdout",
     "output_type": "stream",
     "text": [
      "GMM Training\n",
      "Iteration1  -83122.20989274865\n",
      "Iteration2  -83048.51079647487\n",
      "Iteration3  -83056.33387379738\n",
      "Iteration4  -83057.56959489791\n",
      "Iteration5  -83057.7237151911\n",
      "Iteration6  -83057.73445543497\n",
      "Iteration7  -83057.73518287214\n",
      "Iteration8  -83057.73523204833\n",
      "Iteration9  -83057.73523537233\n",
      "Iteration10  -83057.73523559688\n",
      "Iteration11  -83057.73523561237\n",
      "Iteration12  -83057.73523561332\n",
      "Iteration13  -83057.73523561323\n",
      "Iteration14  -83057.73523561348\n",
      "Iteration15  -83057.73523561348\n"
     ]
    },
    {
     "data": {
      "image/png": "[encoded data removed]",
      "text/plain": [
       "<Figure size 432x288 with 1 Axes>"
      ]
     },
     "metadata": {
      "needs_background": "light"
     },
     "output_type": "display_data"
    }
   ],
   "source": [
    "gmm_ii_music = GMM(2,music_train.data_matrix.transpose(),False,gmm_iteration_count)\n",
    "gmm_ii_music.initialize(k_ii_music.centers,k_ii_music.covs)\n",
    "gmm_ii_music.train()\n",
    "gmm_ii_music.likelihood_fn()"
   ]
  },
  {
   "cell_type": "code",
   "execution_count": 18,
   "id": "15e04903",
   "metadata": {},
   "outputs": [
    {
     "name": "stdout",
     "output_type": "stream",
     "text": [
      "Correctly classified = 27\n",
      "Total files = 48\n",
      "Accuracy of the GMM Predictions on test data = 56.25\n"
     ]
    }
   ],
   "source": [
    "accuracy_test(gmm_ii_speech,gmm_ii_music)"
   ]
  },
  {
   "cell_type": "markdown",
   "id": "19ed78a7",
   "metadata": {},
   "source": [
    "# 5 mixture Gaussian Diagonal Covariance"
   ]
  },
  {
   "cell_type": "code",
   "execution_count": 19,
   "id": "4e09f240",
   "metadata": {},
   "outputs": [],
   "source": [
    "k_iii_speech = KMeans(5,speech_train.data_matrix.transpose(),kmeans_iteration_limit,remove_non_diagonal=True)\n",
    "k_iii_speech.compute_means()\n",
    "k_iii_speech.compute_covariance()\n"
   ]
  },
  {
   "cell_type": "code",
   "execution_count": 20,
   "id": "fba46b0b",
   "metadata": {},
   "outputs": [
    {
     "name": "stdout",
     "output_type": "stream",
     "text": [
      "GMM Training\n",
      "Iteration1  -193003.79445909726\n",
      "Iteration2  -192525.1244459133\n",
      "Iteration3  -192336.18078816903\n",
      "Iteration4  -192346.62654893086\n",
      "Iteration5  -192349.47876707264\n",
      "Iteration6  -192350.15011428678\n",
      "Iteration7  -192350.30620427165\n",
      "Iteration8  -192350.34274367883\n",
      "Iteration9  -192350.3513586448\n",
      "Iteration10  -192350.35339957464\n",
      "Iteration11  -192350.353884443\n",
      "Iteration12  -192350.35399981032\n",
      "Iteration13  -192350.3540272816\n",
      "Iteration14  -192350.35403382572\n",
      "Iteration15  -192350.35403538527\n"
     ]
    },
    {
     "data": {
      "image/png": "[encoded data removed]",
      "text/plain": [
       "<Figure size 432x288 with 1 Axes>"
      ]
     },
     "metadata": {
      "needs_background": "light"
     },
     "output_type": "display_data"
    }
   ],
   "source": [
    "gmm_iii_speech = GMM(5,speech_train.data_matrix.transpose(),True,gmm_iteration_count)\n",
    "gmm_iii_speech.initialize(k_iii_speech.centers,k_iii_speech.covs)\n",
    "gmm_iii_speech.train()\n",
    "gmm_iii_speech.likelihood_fn()"
   ]
  },
  {
   "cell_type": "code",
   "execution_count": 21,
   "id": "0f346f1f",
   "metadata": {},
   "outputs": [],
   "source": [
    "k_iii_music = KMeans(5,music_train.data_matrix.transpose(),kmeans_iteration_limit,remove_non_diagonal=True)\n",
    "k_iii_music.compute_means()\n",
    "k_iii_music.compute_covariance()\n"
   ]
  },
  {
   "cell_type": "code",
   "execution_count": 22,
   "id": "fb64efc3",
   "metadata": {},
   "outputs": [
    {
     "name": "stdout",
     "output_type": "stream",
     "text": [
      "GMM Training\n",
      "Iteration1  -193003.79445909726\n",
      "Iteration2  -191570.78945734003\n",
      "Iteration3  -191404.44853250636\n",
      "Iteration4  -191403.55549843112\n",
      "Iteration5  -191403.52462655108\n",
      "Iteration6  -191403.5253766211\n",
      "Iteration7  -191403.5258871991\n",
      "Iteration8  -191403.52598721322\n",
      "Iteration9  -191403.52600271394\n",
      "Iteration10  -191403.52600489388\n",
      "Iteration11  -191403.52600518553\n",
      "Iteration12  -191403.52600522415\n",
      "Iteration13  -191403.5260052294\n",
      "Iteration14  -191403.52600522953\n",
      "Iteration15  -191403.52600522962\n"
     ]
    },
    {
     "data": {
      "image/png": "[encoded data removed]",
      "text/plain": [
       "<Figure size 432x288 with 1 Axes>"
      ]
     },
     "metadata": {
      "needs_background": "light"
     },
     "output_type": "display_data"
    }
   ],
   "source": [
    "gmm_iii_music = GMM(5,music_train.data_matrix.transpose(),True,gmm_iteration_count)\n",
    "gmm_iii_music.initialize(k_iii_music.centers,k_iii_music.covs)\n",
    "gmm_iii_music.train()\n",
    "gmm_iii_music.likelihood_fn()"
   ]
  },
  {
   "cell_type": "code",
   "execution_count": 23,
   "id": "afba74cc",
   "metadata": {},
   "outputs": [
    {
     "name": "stdout",
     "output_type": "stream",
     "text": [
      "Correctly classified = 32\n",
      "Total files = 48\n",
      "Accuracy of the GMM Predictions on test data = 66.66666666666666\n"
     ]
    }
   ],
   "source": [
    "accuracy_test(gmm_iii_speech,gmm_iii_music)"
   ]
  },
  {
   "cell_type": "markdown",
   "id": "1fb6e0e6",
   "metadata": {},
   "source": [
    "# 5 mixture Gaussian Full Covariance"
   ]
  },
  {
   "cell_type": "code",
   "execution_count": 24,
   "id": "582a1c62",
   "metadata": {},
   "outputs": [],
   "source": [
    "k_iv_speech = KMeans(5,speech_train.data_matrix.transpose(),kmeans_iteration_limit,remove_non_diagonal=False)\n",
    "k_iv_speech.compute_means()\n",
    "k_iv_speech.compute_covariance()\n"
   ]
  },
  {
   "cell_type": "code",
   "execution_count": 25,
   "id": "8514dd9f",
   "metadata": {},
   "outputs": [
    {
     "name": "stdout",
     "output_type": "stream",
     "text": [
      "GMM Training\n",
      "Iteration1  -193003.79445909726\n",
      "Iteration2  -189338.5541192052\n",
      "Iteration3  -187285.63559388215\n",
      "Iteration4  -186584.5634945222\n",
      "Iteration5  -186013.42739394872\n",
      "Iteration6  -185572.08442673727\n",
      "Iteration7  -185246.28373146942\n",
      "Iteration8  -185011.74958000946\n",
      "Iteration9  -184845.27095740603\n",
      "Iteration10  -184728.07022512288\n",
      "Iteration11  -184645.977114116\n",
      "Iteration12  -184588.65922643358\n",
      "Iteration13  -184548.7229890435\n",
      "Iteration14  -184520.93589449147\n",
      "Iteration15  -184501.61997664248\n"
     ]
    },
    {
     "data": {
      "image/png": "[encoded data removed]",
      "text/plain": [
       "<Figure size 432x288 with 1 Axes>"
      ]
     },
     "metadata": {
      "needs_background": "light"
     },
     "output_type": "display_data"
    }
   ],
   "source": [
    "gmm_iv_speech = GMM(5,speech_train.data_matrix.transpose(),False,gmm_iteration_count)\n",
    "gmm_iv_speech.initialize(k_iv_speech.centers,k_iv_speech.covs)\n",
    "gmm_iv_speech.train()\n",
    "gmm_iv_speech.likelihood_fn()"
   ]
  },
  {
   "cell_type": "code",
   "execution_count": 26,
   "id": "45630f9c",
   "metadata": {},
   "outputs": [],
   "source": [
    "k_iv_music = KMeans(5,music_train.data_matrix.transpose(),kmeans_iteration_limit,remove_non_diagonal=False)\n",
    "k_iv_music.compute_means()\n",
    "k_iv_music.compute_covariance()\n"
   ]
  },
  {
   "cell_type": "code",
   "execution_count": 27,
   "id": "8f778404",
   "metadata": {},
   "outputs": [
    {
     "name": "stdout",
     "output_type": "stream",
     "text": [
      "GMM Training\n",
      "Iteration1  -193003.79445909726\n",
      "Iteration2  -184303.9517579474\n",
      "Iteration3  -175568.0794464079\n",
      "Iteration4  -173155.68166448345\n",
      "Iteration5  -172127.8585550698\n",
      "Iteration6  -171643.36049752237\n",
      "Iteration7  -171402.86401053195\n",
      "Iteration8  -171280.27003159418\n",
      "Iteration9  -171216.9094585535\n",
      "Iteration10  -171183.92621749875\n",
      "Iteration11  -171166.69159167344\n",
      "Iteration12  -171157.66826796025\n",
      "Iteration13  -171152.9391509156\n",
      "Iteration14  -171150.4592804641\n",
      "Iteration15  -171149.15850776382\n"
     ]
    },
    {
     "data": {
      "image/png": "[encoded data removed]",
      "text/plain": [
       "<Figure size 432x288 with 1 Axes>"
      ]
     },
     "metadata": {
      "needs_background": "light"
     },
     "output_type": "display_data"
    }
   ],
   "source": [
    "gmm_iv_music = GMM(5,music_train.data_matrix.transpose(),False,gmm_iteration_count)\n",
    "gmm_iv_music.initialize(k_iv_music.centers,k_iv_music.covs)\n",
    "gmm_iv_music.train()\n",
    "gmm_iv_music.likelihood_fn()"
   ]
  },
  {
   "cell_type": "code",
   "execution_count": 28,
   "id": "757100df",
   "metadata": {},
   "outputs": [
    {
     "name": "stdout",
     "output_type": "stream",
     "text": [
      "Correctly classified = 24\n",
      "Total files = 48\n",
      "Accuracy of the GMM Predictions on test data = 50.0\n"
     ]
    }
   ],
   "source": [
    "accuracy_test(gmm_iv_speech,gmm_iv_music)\n"
   ]
  },
  {
   "cell_type": "markdown",
   "id": "afba8f33",
   "metadata": {},
   "source": [
    "# Summary\n",
    "\n",
    "|   \t|   Diagonal Covariance\t|   Full Covariance\t|   \t|   \t|\n",
    "|---\t|---\t|---\t|---\t|---\t|\n",
    "|   2 Mixture\t|  83.34 \t|  56.25 \t|   \t|   \t|\n",
    "| 5 Mixture  \t|   66.66\t|   50.0|   \t|   \t|\n",
    "|   \t|   \t|   \t|   \t|   \t|"
   ]
  },
  {
   "cell_type": "markdown",
   "id": "eedb81ea",
   "metadata": {},
   "source": [
    "## Conclusions"
   ]
  },
  {
   "cell_type": "markdown",
   "id": "162ac4c6",
   "metadata": {},
   "source": [
    "- The error rate increased on increasing the number of gaussians \n",
    "- Fixing the number of mixture components, the Diagonal Covariance mxiture models perform better than the full covariance models\n"
   ]
  },
  {
   "cell_type": "code",
   "execution_count": null,
   "id": "9f77fcbf",
   "metadata": {},
   "outputs": [],
   "source": []
  }
 ],
 "metadata": {
  "kernelspec": {
   "display_name": "Python 3 (ipykernel)",
   "language": "python",
   "name": "python3"
  },
  "language_info": {
   "codemirror_mode": {
    "name": "ipython",
    "version": 3
   },
   "file_extension": ".py",
   "mimetype": "text/x-python",
   "name": "python",
   "nbconvert_exporter": "python",
   "pygments_lexer": "ipython3",
   "version": "3.9.10"
  }
 },
 "nbformat": 4,
 "nbformat_minor": 5
}
